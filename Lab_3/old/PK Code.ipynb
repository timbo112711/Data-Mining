{
 "cells": [
  {
   "cell_type": "markdown",
   "metadata": {},
   "source": [
    "## Business Understanding\n",
    "\n",
    "The data we selected for building a recommender system, Option C on Lab 3's rubric, is formally named the \"Instacart Market Basket Analysis\" set and is available on Kaggle (https://www.kaggle.com/c/instacart-market-basket-analysis/data). "
   ]
  },
  {
   "cell_type": "markdown",
   "metadata": {},
   "source": [
    "```{sql}\n",
    "                              List of relations\n",
    " Schema |            Name             | Type  |  Owner   |  Size   | Description\n",
    "--------+-----------------------------+-------+----------+---------+-------------\n",
    " public | aisles                      | table | postgres | 16 kB   |\n",
    " public | departments                 | table | postgres | 16 kB   |\n",
    " public | orders                      | table | postgres | 248 MB  |\n",
    " public | prior_orders                | table | postgres | 1864 MB |\n",
    " public | products                    | table | postgres | 4304 kB |\n",
    " public | train_orders                | table | postgres | 80 MB   |\n",
    "    \n",
    "    \n",
    "    \n",
    "postgres=# \\d+ aisles\n",
    "                         Table \"public.aisles\"\n",
    "  Column  |  Type  | Modifiers | Storage  | Stats target | Description\n",
    "----------+--------+-----------+----------+--------------+-------------\n",
    " aisle_id | bigint |           | plain    |              |\n",
    " aisle    | text   |           | extended |              |\n",
    "\n",
    "postgres=# \\d+ departments\n",
    "                         Table \"public.departments\"\n",
    "    Column     |  Type  | Modifiers | Storage  | Stats target | Description\n",
    "---------------+--------+-----------+----------+--------------+-------------\n",
    " department_id | bigint |           | plain    |              |\n",
    " department    | text   |           | extended |              |\n",
    "\n",
    "postgres=# \\d+ orders\n",
    "                                     Table \"public.orders\"\n",
    "         Column         |       Type       | Modifiers | Storage  | Stats target | Description\n",
    "------------------------+------------------+-----------+----------+--------------+-------------\n",
    " order_id               | bigint           |           | plain    |              |\n",
    " user_id                | bigint           |           | plain    |              |\n",
    " eval_set               | text             |           | extended |              |\n",
    " order_number           | bigint           |           | plain    |              |\n",
    " order_dow              | integer          |           | plain    |              |\n",
    " order_hour_of_day      | integer          |           | plain    |              |\n",
    " days_since_prior_order | double precision |           | plain    |              |\n",
    "\n",
    "postgres=# \\d+ prior_orders\n",
    "                          Table \"public.prior_orders\"\n",
    "      Column       |  Type   | Modifiers | Storage | Stats target | Description\n",
    "-------------------+---------+-----------+---------+--------------+-------------\n",
    " order_id          | bigint  |           | plain   |              |\n",
    " product_id        | bigint  |           | plain   |              |\n",
    " add_to_card_order | bigint  |           | plain   |              |\n",
    " reordered         | integer |           | plain   |              |\n",
    "\n",
    "postgres=# \\d+ products\n",
    "                          Table \"public.products\"\n",
    "    Column     |  Type  | Modifiers | Storage  | Stats target | Description\n",
    "---------------+--------+-----------+----------+--------------+-------------\n",
    " product_id    | bigint |           | plain    |              |\n",
    " product_name  | text   |           | extended |              |\n",
    " aisle_id      | bigint |           | plain    |              |\n",
    "    \n",
    "    \n",
    "postgres=# \\d+ train_orders\n",
    "                          Table \"public.train_orders\"\n",
    "      Column       |  Type   | Modifiers | Storage | Stats target | Description\n",
    "-------------------+---------+-----------+---------+--------------+-------------\n",
    " order_id          | bigint  |           | plain   |              |\n",
    " product_id        | bigint  |           | plain   |              |\n",
    " add_to_card_order | bigint  |           | plain   |              |\n",
    " reordered         | integer |           | plain   |              |\n",
    " \n",
    "```"
   ]
  },
  {
   "cell_type": "code",
   "execution_count": null,
   "metadata": {
    "collapsed": true
   },
   "outputs": [],
   "source": []
  },
  {
   "cell_type": "code",
   "execution_count": null,
   "metadata": {
    "collapsed": true
   },
   "outputs": [],
   "source": []
  },
  {
   "cell_type": "markdown",
   "metadata": {},
   "source": [
    "## Data Understanding\n",
    "\n",
    "• [10 points] Describe the meaning and type of data (scale, values, etc.) for each\n",
    "attribute in the data file. Verify data quality: Are there missing values? Duplicate data?\n",
    "Outliers? Are those mistakes? How do you deal with these problems?\n",
    "\n",
    "\n",
    "• [10 points] Visualize the any important attributes appropriately. Important: Provide an\n",
    "interpretation for any charts or graphs."
   ]
  },
  {
   "cell_type": "markdown",
   "metadata": {},
   "source": []
  },
  {
   "cell_type": "code",
   "execution_count": null,
   "metadata": {
    "collapsed": true
   },
   "outputs": [],
   "source": []
  },
  {
   "cell_type": "code",
   "execution_count": null,
   "metadata": {
    "collapsed": true
   },
   "outputs": [],
   "source": []
  },
  {
   "cell_type": "code",
   "execution_count": null,
   "metadata": {
    "collapsed": true
   },
   "outputs": [],
   "source": []
  }
 ],
 "metadata": {
  "kernelspec": {
   "display_name": "Python 3",
   "language": "python",
   "name": "python3"
  },
  "language_info": {
   "codemirror_mode": {
    "name": "ipython",
    "version": 3
   },
   "file_extension": ".py",
   "mimetype": "text/x-python",
   "name": "python",
   "nbconvert_exporter": "python",
   "pygments_lexer": "ipython3",
   "version": "3.6.2"
  }
 },
 "nbformat": 4,
 "nbformat_minor": 2
}
