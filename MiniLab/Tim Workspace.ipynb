{
 "cells": [
  {
   "cell_type": "code",
   "execution_count": 56,
   "metadata": {
    "collapsed": true
   },
   "outputs": [],
   "source": [
    "# Imports for data-preprocessing\n",
    "import pandas as pd\n",
    "import numpy as np\n",
    "from __future__ import print_function\n",
    "\n",
    "# Import feature selection/LogR libraries\n",
    "from sklearn.linear_model import LogisticRegression\n",
    "from sklearn import metrics as mt\n",
    "from sklearn.feature_selection import RFE\n",
    "from sklearn.model_selection import cross_val_score\n",
    "from sklearn.preprocessing import StandardScaler\n",
    "\n",
    "# SVM using SVC\n",
    "from sklearn.svm import SVC\n",
    "\n",
    "# Viz libraries\n",
    "import matplotlib.pyplot as plt\n",
    "from string import ascii_letters\n",
    "import seaborn as sns\n",
    "%matplotlib inline"
   ]
  },
  {
   "cell_type": "code",
   "execution_count": 2,
   "metadata": {
    "collapsed": true
   },
   "outputs": [],
   "source": [
    "# Import data \n",
    "df = pd.read_csv('../data/master.csv')"
   ]
  },
  {
   "cell_type": "code",
   "execution_count": 3,
   "metadata": {},
   "outputs": [
    {
     "data": {
      "text/html": [
       "<div>\n",
       "<table border=\"1\" class=\"dataframe\">\n",
       "  <thead>\n",
       "    <tr style=\"text-align: right;\">\n",
       "      <th></th>\n",
       "      <th>Unnamed: 0</th>\n",
       "      <th>age</th>\n",
       "      <th>workclass</th>\n",
       "      <th>education</th>\n",
       "      <th>education_num</th>\n",
       "      <th>marital_status</th>\n",
       "      <th>occupation</th>\n",
       "      <th>relationship</th>\n",
       "      <th>race</th>\n",
       "      <th>sex</th>\n",
       "      <th>capital_gain</th>\n",
       "      <th>capital_loss</th>\n",
       "      <th>hours_per_week</th>\n",
       "      <th>native_country</th>\n",
       "      <th>income_binary</th>\n",
       "      <th>condensed_education</th>\n",
       "      <th>continent</th>\n",
       "      <th>condensed_marital</th>\n",
       "      <th>condensed_workclass</th>\n",
       "    </tr>\n",
       "  </thead>\n",
       "  <tbody>\n",
       "    <tr>\n",
       "      <th>0</th>\n",
       "      <td>0</td>\n",
       "      <td>39</td>\n",
       "      <td>State-gov</td>\n",
       "      <td>Bachelors</td>\n",
       "      <td>13</td>\n",
       "      <td>Never-married</td>\n",
       "      <td>Adm-clerical</td>\n",
       "      <td>Not-in-family</td>\n",
       "      <td>White</td>\n",
       "      <td>Male</td>\n",
       "      <td>2174</td>\n",
       "      <td>0</td>\n",
       "      <td>40</td>\n",
       "      <td>United-States</td>\n",
       "      <td>&lt;=50K</td>\n",
       "      <td>Bachelors</td>\n",
       "      <td>United States</td>\n",
       "      <td>Never</td>\n",
       "      <td>Government</td>\n",
       "    </tr>\n",
       "    <tr>\n",
       "      <th>1</th>\n",
       "      <td>1</td>\n",
       "      <td>50</td>\n",
       "      <td>Self-emp-not-inc</td>\n",
       "      <td>Bachelors</td>\n",
       "      <td>13</td>\n",
       "      <td>Married-civ-spouse</td>\n",
       "      <td>Exec-managerial</td>\n",
       "      <td>Husband</td>\n",
       "      <td>White</td>\n",
       "      <td>Male</td>\n",
       "      <td>0</td>\n",
       "      <td>0</td>\n",
       "      <td>13</td>\n",
       "      <td>United-States</td>\n",
       "      <td>&lt;=50K</td>\n",
       "      <td>Bachelors</td>\n",
       "      <td>United States</td>\n",
       "      <td>Married</td>\n",
       "      <td>Self-Employed</td>\n",
       "    </tr>\n",
       "    <tr>\n",
       "      <th>2</th>\n",
       "      <td>2</td>\n",
       "      <td>38</td>\n",
       "      <td>Private</td>\n",
       "      <td>HS-grad</td>\n",
       "      <td>9</td>\n",
       "      <td>Divorced</td>\n",
       "      <td>Handlers-cleaners</td>\n",
       "      <td>Not-in-family</td>\n",
       "      <td>White</td>\n",
       "      <td>Male</td>\n",
       "      <td>0</td>\n",
       "      <td>0</td>\n",
       "      <td>40</td>\n",
       "      <td>United-States</td>\n",
       "      <td>&lt;=50K</td>\n",
       "      <td>High School Graduate</td>\n",
       "      <td>United States</td>\n",
       "      <td>Divorced/Separated</td>\n",
       "      <td>Private</td>\n",
       "    </tr>\n",
       "    <tr>\n",
       "      <th>3</th>\n",
       "      <td>3</td>\n",
       "      <td>53</td>\n",
       "      <td>Private</td>\n",
       "      <td>11th</td>\n",
       "      <td>7</td>\n",
       "      <td>Married-civ-spouse</td>\n",
       "      <td>Handlers-cleaners</td>\n",
       "      <td>Husband</td>\n",
       "      <td>Black</td>\n",
       "      <td>Male</td>\n",
       "      <td>0</td>\n",
       "      <td>0</td>\n",
       "      <td>40</td>\n",
       "      <td>United-States</td>\n",
       "      <td>&lt;=50K</td>\n",
       "      <td>No High School Diploma</td>\n",
       "      <td>United States</td>\n",
       "      <td>Married</td>\n",
       "      <td>Private</td>\n",
       "    </tr>\n",
       "    <tr>\n",
       "      <th>4</th>\n",
       "      <td>4</td>\n",
       "      <td>28</td>\n",
       "      <td>Private</td>\n",
       "      <td>Bachelors</td>\n",
       "      <td>13</td>\n",
       "      <td>Married-civ-spouse</td>\n",
       "      <td>Prof-specialty</td>\n",
       "      <td>Wife</td>\n",
       "      <td>Black</td>\n",
       "      <td>Female</td>\n",
       "      <td>0</td>\n",
       "      <td>0</td>\n",
       "      <td>40</td>\n",
       "      <td>Cuba</td>\n",
       "      <td>&lt;=50K</td>\n",
       "      <td>Bachelors</td>\n",
       "      <td>Caribbean</td>\n",
       "      <td>Married</td>\n",
       "      <td>Private</td>\n",
       "    </tr>\n",
       "  </tbody>\n",
       "</table>\n",
       "</div>"
      ],
      "text/plain": [
       "   Unnamed: 0  age         workclass   education  education_num  \\\n",
       "0           0   39         State-gov   Bachelors             13   \n",
       "1           1   50  Self-emp-not-inc   Bachelors             13   \n",
       "2           2   38           Private     HS-grad              9   \n",
       "3           3   53           Private        11th              7   \n",
       "4           4   28           Private   Bachelors             13   \n",
       "\n",
       "       marital_status          occupation    relationship    race      sex  \\\n",
       "0       Never-married        Adm-clerical   Not-in-family   White     Male   \n",
       "1  Married-civ-spouse     Exec-managerial         Husband   White     Male   \n",
       "2            Divorced   Handlers-cleaners   Not-in-family   White     Male   \n",
       "3  Married-civ-spouse   Handlers-cleaners         Husband   Black     Male   \n",
       "4  Married-civ-spouse      Prof-specialty            Wife   Black   Female   \n",
       "\n",
       "   capital_gain  capital_loss  hours_per_week native_country income_binary  \\\n",
       "0          2174             0              40  United-States         <=50K   \n",
       "1             0             0              13  United-States         <=50K   \n",
       "2             0             0              40  United-States         <=50K   \n",
       "3             0             0              40  United-States         <=50K   \n",
       "4             0             0              40           Cuba         <=50K   \n",
       "\n",
       "      condensed_education      continent   condensed_marital  \\\n",
       "0               Bachelors  United States               Never   \n",
       "1               Bachelors  United States             Married   \n",
       "2    High School Graduate  United States  Divorced/Separated   \n",
       "3  No High School Diploma  United States             Married   \n",
       "4               Bachelors      Caribbean             Married   \n",
       "\n",
       "  condensed_workclass  \n",
       "0          Government  \n",
       "1       Self-Employed  \n",
       "2             Private  \n",
       "3             Private  \n",
       "4             Private  "
      ]
     },
     "execution_count": 3,
     "metadata": {},
     "output_type": "execute_result"
    }
   ],
   "source": [
    "df.head()"
   ]
  },
  {
   "cell_type": "code",
   "execution_count": 3,
   "metadata": {
    "collapsed": true
   },
   "outputs": [],
   "source": [
    "# Delete unwanted variables\n",
    "del df['workclass']\n",
    "del df['education']\n",
    "del df['education_num']\n",
    "del df['marital_status']\n",
    "del df['occupation']\n",
    "del df['native_country'] \n",
    "del df['Unnamed: 0']"
   ]
  },
  {
   "cell_type": "code",
   "execution_count": 10,
   "metadata": {},
   "outputs": [
    {
     "data": {
      "text/html": [
       "<div>\n",
       "<table border=\"1\" class=\"dataframe\">\n",
       "  <thead>\n",
       "    <tr style=\"text-align: right;\">\n",
       "      <th></th>\n",
       "      <th>age</th>\n",
       "      <th>relationship</th>\n",
       "      <th>race</th>\n",
       "      <th>sex</th>\n",
       "      <th>capital_gain</th>\n",
       "      <th>capital_loss</th>\n",
       "      <th>hours_per_week</th>\n",
       "      <th>condensed_education</th>\n",
       "      <th>continent</th>\n",
       "      <th>condensed_marital</th>\n",
       "      <th>condensed_workclass</th>\n",
       "    </tr>\n",
       "  </thead>\n",
       "  <tbody>\n",
       "    <tr>\n",
       "      <th>0</th>\n",
       "      <td>39</td>\n",
       "      <td>Not-in-family</td>\n",
       "      <td>White</td>\n",
       "      <td>Male</td>\n",
       "      <td>2174</td>\n",
       "      <td>0</td>\n",
       "      <td>40</td>\n",
       "      <td>Bachelors</td>\n",
       "      <td>United States</td>\n",
       "      <td>Never</td>\n",
       "      <td>Government</td>\n",
       "    </tr>\n",
       "    <tr>\n",
       "      <th>1</th>\n",
       "      <td>50</td>\n",
       "      <td>Husband</td>\n",
       "      <td>White</td>\n",
       "      <td>Male</td>\n",
       "      <td>0</td>\n",
       "      <td>0</td>\n",
       "      <td>13</td>\n",
       "      <td>Bachelors</td>\n",
       "      <td>United States</td>\n",
       "      <td>Married</td>\n",
       "      <td>Self-Employed</td>\n",
       "    </tr>\n",
       "    <tr>\n",
       "      <th>2</th>\n",
       "      <td>38</td>\n",
       "      <td>Not-in-family</td>\n",
       "      <td>White</td>\n",
       "      <td>Male</td>\n",
       "      <td>0</td>\n",
       "      <td>0</td>\n",
       "      <td>40</td>\n",
       "      <td>High School Graduate</td>\n",
       "      <td>United States</td>\n",
       "      <td>Divorced/Separated</td>\n",
       "      <td>Private</td>\n",
       "    </tr>\n",
       "    <tr>\n",
       "      <th>3</th>\n",
       "      <td>53</td>\n",
       "      <td>Husband</td>\n",
       "      <td>Black</td>\n",
       "      <td>Male</td>\n",
       "      <td>0</td>\n",
       "      <td>0</td>\n",
       "      <td>40</td>\n",
       "      <td>No High School Diploma</td>\n",
       "      <td>United States</td>\n",
       "      <td>Married</td>\n",
       "      <td>Private</td>\n",
       "    </tr>\n",
       "    <tr>\n",
       "      <th>4</th>\n",
       "      <td>28</td>\n",
       "      <td>Wife</td>\n",
       "      <td>Black</td>\n",
       "      <td>Female</td>\n",
       "      <td>0</td>\n",
       "      <td>0</td>\n",
       "      <td>40</td>\n",
       "      <td>Bachelors</td>\n",
       "      <td>Caribbean</td>\n",
       "      <td>Married</td>\n",
       "      <td>Private</td>\n",
       "    </tr>\n",
       "  </tbody>\n",
       "</table>\n",
       "</div>"
      ],
      "text/plain": [
       "   age    relationship    race      sex  capital_gain  capital_loss  \\\n",
       "0   39   Not-in-family   White     Male          2174             0   \n",
       "1   50         Husband   White     Male             0             0   \n",
       "2   38   Not-in-family   White     Male             0             0   \n",
       "3   53         Husband   Black     Male             0             0   \n",
       "4   28            Wife   Black   Female             0             0   \n",
       "\n",
       "   hours_per_week     condensed_education      continent   condensed_marital  \\\n",
       "0              40               Bachelors  United States               Never   \n",
       "1              13               Bachelors  United States             Married   \n",
       "2              40    High School Graduate  United States  Divorced/Separated   \n",
       "3              40  No High School Diploma  United States             Married   \n",
       "4              40               Bachelors      Caribbean             Married   \n",
       "\n",
       "  condensed_workclass  \n",
       "0          Government  \n",
       "1       Self-Employed  \n",
       "2             Private  \n",
       "3             Private  \n",
       "4             Private  "
      ]
     },
     "execution_count": 10,
     "metadata": {},
     "output_type": "execute_result"
    }
   ],
   "source": [
    "# Check df again\n",
    "df.head()"
   ]
  },
  {
   "cell_type": "markdown",
   "metadata": {},
   "source": [
    "### Training and Testing Split"
   ]
  },
  {
   "cell_type": "markdown",
   "metadata": {},
   "source": [
    "The data set was split into two separte sets "
   ]
  },
  {
   "cell_type": "code",
   "execution_count": 26,
   "metadata": {},
   "outputs": [
    {
     "data": {
      "text/plain": [
       "10"
      ]
     },
     "execution_count": 26,
     "metadata": {},
     "output_type": "execute_result"
    }
   ],
   "source": [
    "from sklearn.model_selection import StratifiedShuffleSplit\n",
    "\n",
    "if 'income_binary' in df:\n",
    "    y = df['income_binary'].values #get values we need \n",
    "    del df['income_binary']        #get rid of the class label\n",
    "    X = df.values                  #use everything else to predict \n",
    "    \n",
    "X = pd.get_dummies(df).values\n",
    "\n",
    "# Split the data into 20% Test and 80% Train\n",
    "sss = StratifiedShuffleSplit(n_splits=10, test_size=0.20, random_state=111)\n",
    "sss.get_n_splits(X, y) #retreving the splits "
   ]
  },
  {
   "cell_type": "code",
   "execution_count": 27,
   "metadata": {},
   "outputs": [
    {
     "name": "stdout",
     "output_type": "stream",
     "text": [
      "StratifiedShuffleSplit(n_splits=10, random_state=111, test_size=0.2,\n",
      "            train_size=None)\n"
     ]
    }
   ],
   "source": [
    "print(sss)"
   ]
  },
  {
   "cell_type": "code",
   "execution_count": 28,
   "metadata": {},
   "outputs": [
    {
     "name": "stdout",
     "output_type": "stream",
     "text": [
      "TRAIN: [15163 16279 29246 ..., 21159 41049 17832] TEST: [43578  1917 17027 ..., 22163 39121  5217]\n",
      "TRAIN: [12894 40784 33210 ..., 40386 25846 36294] TEST: [22078 13800    49 ..., 31283 31586  5940]\n",
      "TRAIN: [16738 39693 30388 ...,   328 33912 39362] TEST: [24310 48705 25069 ..., 47258 14625 39292]\n",
      "TRAIN: [ 7391 39777 43398 ...,  8978 24399 34458] TEST: [ 8836  1328 27156 ..., 47164 10476 15648]\n",
      "TRAIN: [16863 33361 41054 ..., 26744 47828 11941] TEST: [18495 35842 20752 ..., 46535  4696 46808]\n",
      "TRAIN: [ 5743 21257 30549 ...,  5927  7506 19162] TEST: [21737 30911  7484 ..., 19717 27662 19780]\n",
      "TRAIN: [18797 40559 21393 ..., 47376 19268 42562] TEST: [13861 34766  4320 ..., 42723 30153 11994]\n",
      "TRAIN: [36977 11147 24500 ..., 40130 15262 22626] TEST: [13974 35810 43678 ...,  7735 14376 40480]\n",
      "TRAIN: [32752 37107 19197 ..., 26015 32870  7076] TEST: [36370 13966 29812 ..., 20543 23045 34324]\n",
      "TRAIN: [22441 41471 48039 ..., 32784  4446 45905] TEST: [  934  1627 37667 ...,  4950 44845 21169]\n"
     ]
    }
   ],
   "source": [
    "for train_index, test_index in sss.split(X, y):\n",
    "    print(\"TRAIN:\", train_index, \"TEST:\", test_index)\n",
    "    X_train, X_test = X[train_index], X[test_index]\n",
    "    y_train, y_test = y[train_index], y[test_index]"
   ]
  },
  {
   "cell_type": "code",
   "execution_count": 13,
   "metadata": {},
   "outputs": [
    {
     "name": "stdout",
     "output_type": "stream",
     "text": [
      "[[ 1.          0.07722902  0.05694383 ..., -0.19126318  0.17852802\n",
      "   0.02675379]\n",
      " [ 0.07722902  1.         -0.03144077 ..., -0.03698639  0.08293252\n",
      "  -0.01927657]\n",
      " [ 0.05694383 -0.03144077  1.         ..., -0.0251755   0.03484551\n",
      "  -0.01227187]\n",
      " ..., \n",
      " [-0.19126318 -0.03698639 -0.0251755  ...,  1.         -0.53984939\n",
      "  -0.37366187]\n",
      " [ 0.17852802  0.08293252  0.03484551 ..., -0.53984939  1.         -0.08886058]\n",
      " [ 0.02675379 -0.01927657 -0.01227187 ..., -0.37366187 -0.08886058  1.        ]]\n"
     ]
    }
   ],
   "source": [
    "correlation_matrix = np.corrcoef(X.T)\n",
    "print(correlation_matrix)"
   ]
  },
  {
   "cell_type": "code",
   "execution_count": 14,
   "metadata": {
    "collapsed": true
   },
   "outputs": [],
   "source": [
    "def correlation_matrix(df):\n",
    "    from matplotlib import pyplot as plt\n",
    "    from matplotlib import cm as cm\n",
    "\n",
    "    fig = plt.figure()\n",
    "    ax1 = fig.add_subplot(111)\n",
    "    cmap = cm.get_cmap('jet', 30)\n",
    "    cax = ax1.imshow(df.corr(), interpolation=\"nearest\", cmap=cmap)\n",
    "    ax1.grid(True)\n",
    "    plt.title('Abalone Feature Correlation')\n",
    "    labels=['age','race', 'sex', \n",
    "            'condensed_education', 'continent', 'condensed_marital', 'condensed_workclass']\n",
    "    ax1.set_xticklabels(labels,fontsize=10)\n",
    "    ax1.set_yticklabels(labels,fontsize=10)\n",
    "    # Add colorbar, make sure to specify tick locations to match desired ticklabels\n",
    "    fig.colorbar(cax, ticks=[-1, -0.75, -0.50, -0.25, 0, 0.25, 0.50, .75,.8,.85,.90,.95,1])\n",
    "    plt.show()"
   ]
  },
  {
   "cell_type": "code",
   "execution_count": 15,
   "metadata": {},
   "outputs": [
    {
     "data": {
      "image/png": "[encoded data removed]",
      "text/plain": [
       "<matplotlib.figure.Figure at 0xb969ef0>"
      ]
     },
     "metadata": {},
     "output_type": "display_data"
    }
   ],
   "source": [
    "correlation_matrix(df)"
   ]
  },
  {
   "cell_type": "code",
   "execution_count": 51,
   "metadata": {},
   "outputs": [
    {
     "data": {
      "text/plain": [
       "<matplotlib.axes._subplots.AxesSubplot at 0xc51f4a8>"
      ]
     },
     "execution_count": 51,
     "metadata": {},
     "output_type": "execute_result"
    },
    {
     "data": {
      "image/png": "[encoded data removed]",
      "text/plain": [
       "<matplotlib.figure.Figure at 0xbe07dd8>"
      ]
     },
     "metadata": {},
     "output_type": "display_data"
    }
   ],
   "source": [
    "# Correlation between continuous variables \n",
    "\n",
    "sns.set(style=\"white\")\n",
    "\n",
    "# Compute the correlation matrix\n",
    "corr = df.corr()\n",
    "\n",
    "# Generate a mask for the upper triangle\n",
    "mask = np.zeros_like(corr, dtype=np.bool)\n",
    "mask[np.triu_indices_from(mask)] = True\n",
    "\n",
    "# Set up the matplotlib figure\n",
    "f, ax = plt.subplots(figsize=(11, 9))\n",
    "\n",
    "# Generate a custom diverging colormap\n",
    "cmap = sns.diverging_palette(220, 10, as_cmap=True)\n",
    "\n",
    "# Draw the heatmap with the mask and correct aspect ratio\n",
    "sns.heatmap(corr, mask=mask, cmap=cmap, vmax=.3, center=0,\n",
    "            square=True, linewidths=.5, cbar_kws={\"shrink\": .5})\n"
   ]
  },
  {
   "cell_type": "markdown",
   "metadata": {},
   "source": [
    "### Feature Selection"
   ]
  },
  {
   "cell_type": "markdown",
   "metadata": {},
   "source": [
    "The goal here is to figure out how incorporating a feature selection method, recursive feature elimination, into our logistic regression models changes the prediction accuracy. The RFE selects features by recursively choosing smaller and smaller group of features. The selection starts off with the initial set of features. Then the least important features are pruned off of the current feature set. This is recursively repeated on the pruned set until it stops on the number that is chosen. Once the feature selection is complete, those chosen features will be used in the models."
   ]
  },
  {
   "cell_type": "code",
   "execution_count": 14,
   "metadata": {},
   "outputs": [
    {
     "name": "stdout",
     "output_type": "stream",
     "text": [
      "Num Features: 3\n",
      "Selected Features: [False False False False  True False False False False  True False False\n",
      " False False False False False False False  True False False False False\n",
      " False False False False False False False False False False False False\n",
      " False False False False False]\n",
      "Feature Ranking: [37 39 38 35  1 24 13  3 20  1 15 36 23 25 27 11 28  8 19  1  5 12  2  7 26\n",
      " 16 30 17  6  4 22 18 33 21 14 10 29 34 31 32  9]\n"
     ]
    }
   ],
   "source": [
    "# Feature extraction #1\n",
    "# Set number of features to 3\n",
    "model = LogisticRegression(penalty='l2', C=1.0)\n",
    "rfe = RFE(model, 3)\n",
    "fit = rfe.fit(X, y)\n",
    "print(\"Num Features:\", fit.n_features_)\n",
    "print(\"Selected Features:\", fit.support_)\n",
    "print(\"Feature Ranking:\", fit.ranking_)"
   ]
  },
  {
   "cell_type": "code",
   "execution_count": 15,
   "metadata": {},
   "outputs": [
    {
     "name": "stdout",
     "output_type": "stream",
     "text": [
      "Num Features: 5\n",
      "Selected Features: [False False False False  True False False  True False  True False False\n",
      " False False False False False False False  True False False  True False\n",
      " False False False False False False False False False False False False\n",
      " False False False False False]\n",
      "Feature Ranking: [35 37 36 33  1 22 11  1 18  1 13 34 21 23 25  9 26  6 17  1  3 10  1  5 24\n",
      " 14 28 15  4  2 20 16 31 19 12  8 27 32 29 30  7]\n"
     ]
    }
   ],
   "source": [
    "# Feature extraction #2\n",
    "# Set number of features to 5\n",
    "model2 = LogisticRegression(penalty='l2', C=1.0)\n",
    "rfe2 = RFE(model2, 5)\n",
    "fit2 = rfe2.fit(X, y)\n",
    "print(\"Num Features:\", fit2.n_features_)\n",
    "print(\"Selected Features:\", fit2.support_)\n",
    "print(\"Feature Ranking:\", fit2.ranking_)"
   ]
  },
  {
   "cell_type": "code",
   "execution_count": 16,
   "metadata": {},
   "outputs": [
    {
     "name": "stdout",
     "output_type": "stream",
     "text": [
      "Num Features: 10\n",
      "Selected Features: [False False False False  True False False  True False  True False False\n",
      " False False False False False  True False  True  True False  True  True\n",
      " False False False False  True  True False False False False False False\n",
      " False False False False False]\n",
      "Feature Ranking: [30 32 31 28  1 17  6  1 13  1  8 29 16 18 20  4 21  1 12  1  1  5  1  1 19\n",
      "  9 23 10  1  1 15 11 26 14  7  3 22 27 24 25  2]\n"
     ]
    }
   ],
   "source": [
    "# Feature extraction #3\n",
    "# Set number of features to 10\n",
    "model3 = LogisticRegression(penalty='l2', C=1.0)\n",
    "rfe3 = RFE(model3, 10)\n",
    "fit3 = rfe3.fit(X, y)\n",
    "print(\"Num Features:\", fit3.n_features_)\n",
    "print(\"Selected Features:\", fit3.support_)\n",
    "print(\"Feature Ranking:\", fit3.ranking_)"
   ]
  },
  {
   "cell_type": "markdown",
   "metadata": {},
   "source": [
    "### Logistic Regression"
   ]
  },
  {
   "cell_type": "code",
   "execution_count": 30,
   "metadata": {},
   "outputs": [
    {
     "name": "stdout",
     "output_type": "stream",
     "text": [
      "====Iteration 0  ====\n",
      "accuracy 0.765892107688\n",
      "confusion matrix\n",
      " [[7415   16]\n",
      " [2271   67]]\n",
      "====Iteration 1  ====\n",
      "accuracy 0.761080970417\n",
      "confusion matrix\n",
      " [[7227  204]\n",
      " [2130  208]]\n",
      "====Iteration 2  ====\n",
      "accuracy 0.766301566179\n",
      "confusion matrix\n",
      " [[7411   20]\n",
      " [2263   75]]\n",
      "====Iteration 3  ====\n",
      "accuracy 0.767120483161\n",
      "confusion matrix\n",
      " [[7417   14]\n",
      " [2261   77]]\n",
      "====Iteration 4  ====\n",
      "accuracy 0.759954959566\n",
      "confusion matrix\n",
      " [[7206  225]\n",
      " [2120  218]]\n",
      "====Iteration 5  ====\n",
      "accuracy 0.76486846146\n",
      "confusion matrix\n",
      " [[7416   15]\n",
      " [2282   56]]\n",
      "====Iteration 6  ====\n",
      "accuracy 0.766096836933\n",
      "confusion matrix\n",
      " [[7417   14]\n",
      " [2271   67]]\n",
      "====Iteration 7  ====\n",
      "accuracy 0.76671102467\n",
      "confusion matrix\n",
      " [[7414   17]\n",
      " [2262   76]]\n",
      "====Iteration 8  ====\n",
      "accuracy 0.76599447231\n",
      "confusion matrix\n",
      " [[7419   12]\n",
      " [2274   64]]\n",
      "====Iteration 9  ====\n",
      "accuracy 0.765482649196\n",
      "confusion matrix\n",
      " [[7417   14]\n",
      " [2277   61]]\n"
     ]
    }
   ],
   "source": [
    "# RFE model #1\n",
    "\n",
    "iter_num=0\n",
    "# the indices are the rows used for training and testing in each iteration\n",
    "for train_indices, test_indices in sss.split(X,y): \n",
    "    X_train = X[train_indices]  # train indices for X\n",
    "    y_train = y[train_indices]  # train indices for y\n",
    "    \n",
    "    X_test = X[test_indices]    # test indices for X\n",
    "    y_test = y[test_indices]    # test indices for y\n",
    "    \n",
    "    # train the reusable logisitc regression model on the training data\n",
    "    rfe.fit(X_train,y_train)  # train object\n",
    "    y_hat_rfe = rfe.predict(X_test) # get test set precitions\n",
    "\n",
    "    # accuracy and confusion matrix for this iterations of training/testing\n",
    "    acc_rfe1 = mt.accuracy_score(y_test,y_hat_rfe)\n",
    "    conf_rfe1 = mt.confusion_matrix(y_test,y_hat_rfe)\n",
    "    print(\"====Iteration\",iter_num,\" ====\")\n",
    "    print(\"accuracy\", acc_rfe1 )\n",
    "    print(\"confusion matrix\\n\",conf_rfe1)\n",
    "    iter_num+=1\n"
   ]
  },
  {
   "cell_type": "code",
   "execution_count": 32,
   "metadata": {},
   "outputs": [
    {
     "name": "stdout",
     "output_type": "stream",
     "text": [
      "The mean accuracy for this model is  0.764950353158\n"
     ]
    }
   ],
   "source": [
    "# Get the mean accuracy\n",
    "\n",
    "# Load the accuracies\n",
    "accuracies_rfe = cross_val_score(rfe, X, y=y, cv=sss) # this also can help with parallelism\n",
    "\n",
    "# Print out the mean \n",
    "mean_rfe = np.mean(accuracies_rfe)\n",
    "print(\"The mean accuracy for this model is \", mean_rfe)"
   ]
  },
  {
   "cell_type": "code",
   "execution_count": 25,
   "metadata": {},
   "outputs": [
    {
     "name": "stdout",
     "output_type": "stream",
     "text": [
      "====Iteration 0  ====\n",
      "accuracy 0.760696008188\n",
      "confusion matrix\n",
      " [[3716    0]\n",
      " [1169    0]]\n",
      "====Iteration 1  ====\n",
      "accuracy 0.759467758444\n",
      "confusion matrix\n",
      " [[3600  116]\n",
      " [1059  110]]\n",
      "====Iteration 2  ====\n",
      "accuracy 0.762743091095\n",
      "confusion matrix\n",
      " [[3593  123]\n",
      " [1036  133]]\n",
      "====Iteration 3  ====\n",
      "accuracy 0.765404298874\n",
      "confusion matrix\n",
      " [[3706   10]\n",
      " [1136   33]]\n",
      "====Iteration 4  ====\n",
      "accuracy 0.767451381781\n",
      "confusion matrix\n",
      " [[3708    8]\n",
      " [1128   41]]\n",
      "====Iteration 5  ====\n",
      "accuracy 0.760647010647\n",
      "confusion matrix\n",
      " [[3715    0]\n",
      " [1169    0]]\n",
      "====Iteration 6  ====\n",
      "accuracy 0.764742014742\n",
      "confusion matrix\n",
      " [[3704   11]\n",
      " [1138   31]]\n",
      "====Iteration 7  ====\n",
      "accuracy 0.765103420029\n",
      "confusion matrix\n",
      " [[3709    6]\n",
      " [1141   27]]\n",
      "====Iteration 8  ====\n",
      "accuracy 0.787630554987\n",
      "confusion matrix\n",
      " [[3658   57]\n",
      " [ 980  188]]\n",
      "====Iteration 9  ====\n",
      "accuracy 0.761212369445\n",
      "confusion matrix\n",
      " [[3592  123]\n",
      " [1043  125]]\n"
     ]
    }
   ],
   "source": [
    "# RFE model #2\n",
    "\n",
    "iter_num=0\n",
    "# the indices are the rows used for training and testing in each iteration\n",
    "for train_indices, test_indices in skf.split(X,y): \n",
    "    X_train = X[train_indices]  # train indices for X\n",
    "    y_train = y[train_indices]  # train indices for y\n",
    "    \n",
    "    X_test = X[test_indices]    # test indices for X\n",
    "    y_test = y[test_indices]    # test indices for y\n",
    "    \n",
    "    # train the reusable logisitc regression model on the training data\n",
    "    rfe2.fit(X_train,y_train)  # train object\n",
    "    y_hat_rfe2 = rfe2.predict(X_test) # get test set precitions\n",
    "\n",
    "    # accuracy and confusion matrix for this iterations of training/testing\n",
    "    acc_rfe2 = mt.accuracy_score(y_test,y_hat_rfe2)\n",
    "    conf_rfe2 = mt.confusion_matrix(y_test,y_hat_rfe2)\n",
    "    print(\"====Iteration\",iter_num,\" ====\")\n",
    "    print(\"accuracy\", acc_rfe2 )\n",
    "    print(\"confusion matrix\\n\",conf_rfe2)\n",
    "    iter_num+=1\n"
   ]
  },
  {
   "cell_type": "code",
   "execution_count": 25,
   "metadata": {},
   "outputs": [
    {
     "name": "stdout",
     "output_type": "stream",
     "text": [
      "The mean accuracy for this model is  0.769372504862\n"
     ]
    }
   ],
   "source": [
    "# Get the mean accuarcy \n",
    "\n",
    "# Load the accuracies\n",
    "accuracies_rfe2 = cross_val_score(rfe2, X, y=y, cv=sss) # this also can help with parallelism\n",
    "\n",
    "# Print out the mean \n",
    "mean_rfe2 = np.mean(accuracies_rfe2)\n",
    "print(\"The mean accuracy for this model is \", mean_rfe2)"
   ]
  },
  {
   "cell_type": "code",
   "execution_count": 28,
   "metadata": {},
   "outputs": [
    {
     "name": "stdout",
     "output_type": "stream",
     "text": [
      "====Iteration 0  ====\n",
      "accuracy 0.815353121801\n",
      "confusion matrix\n",
      " [[3525  191]\n",
      " [ 711  458]]\n",
      "====Iteration 1  ====\n",
      "accuracy 0.821699078813\n",
      "confusion matrix\n",
      " [[3539  177]\n",
      " [ 694  475]]\n",
      "====Iteration 2  ====\n",
      "accuracy 0.817195496418\n",
      "confusion matrix\n",
      " [[3522  194]\n",
      " [ 699  470]]\n",
      "====Iteration 3  ====\n",
      "accuracy 0.821903787103\n",
      "confusion matrix\n",
      " [[3532  184]\n",
      " [ 686  483]]\n",
      "====Iteration 4  ====\n",
      "accuracy 0.825793244626\n",
      "confusion matrix\n",
      " [[3555  161]\n",
      " [ 690  479]]\n",
      "====Iteration 5  ====\n",
      "accuracy 0.826576576577\n",
      "confusion matrix\n",
      " [[3543  172]\n",
      " [ 675  494]]\n",
      "====Iteration 6  ====\n",
      "accuracy 0.815315315315\n",
      "confusion matrix\n",
      " [[3510  205]\n",
      " [ 697  472]]\n",
      "====Iteration 7  ====\n",
      "accuracy 0.82162604956\n",
      "confusion matrix\n",
      " [[3550  165]\n",
      " [ 706  462]]\n",
      "====Iteration 8  ====\n",
      "accuracy 0.820397296744\n",
      "confusion matrix\n",
      " [[3537  178]\n",
      " [ 699  469]]\n",
      "====Iteration 9  ====\n",
      "accuracy 0.823878763055\n",
      "confusion matrix\n",
      " [[3534  181]\n",
      " [ 679  489]]\n"
     ]
    }
   ],
   "source": [
    "# RFE model #3\n",
    "\n",
    "iter_num=0\n",
    "# the indices are the rows used for training and testing in each iteration\n",
    "for train_indices, test_indices in skf.split(X,y): \n",
    "    X_train = X[train_indices]  # train indices for X\n",
    "    y_train = y[train_indices]  # train indices for y\n",
    "    \n",
    "    X_test = X[test_indices]    # test indices for X\n",
    "    y_test = y[test_indices]    # test indices for y\n",
    "    \n",
    "    # train the reusable logisitc regression model on the training data\n",
    "    rfe3.fit(X_train,y_train)  # train object\n",
    "    y_hat_rfe3 = rfe3.predict(X_test) # get test set precitions\n",
    "\n",
    "    # accuracy and confusion matrix for this iterations of training/testing\n",
    "    acc_rfe3 = mt.accuracy_score(y_test,y_hat_rfe3)\n",
    "    conf_rfe3 = mt.confusion_matrix(y_test,y_hat_rfe3)\n",
    "    print(\"====Iteration\",iter_num,\" ====\")\n",
    "    print(\"accuracy\", acc_rfe3 )\n",
    "    print(\"confusion matrix\\n\",conf_rfe3)\n",
    "    iter_num+=1\n"
   ]
  },
  {
   "cell_type": "code",
   "execution_count": 46,
   "metadata": {},
   "outputs": [
    {
     "name": "stdout",
     "output_type": "stream",
     "text": [
      "The mean accuracy for this model is  0.820923328898\n"
     ]
    }
   ],
   "source": [
    "# Get the mean accuarcy \n",
    "from sklearn.model_selection import cross_val_score\n",
    "\n",
    "# Load the accuracies\n",
    "accuracies_rfe3 = cross_val_score(rfe3, X, y=y, cv=sss) # this also can help with parallelism\n",
    "\n",
    "# Print out the mean \n",
    "mean_rfe3 = np.mean(accuracies_rfe3)\n",
    "print(\"The mean accuracy for this model is \", mean_rfe3)"
   ]
  },
  {
   "cell_type": "code",
   "execution_count": 9,
   "metadata": {
    "scrolled": true
   },
   "outputs": [
    {
     "name": "stdout",
     "output_type": "stream",
     "text": [
      "====Iteration 0  ====\n",
      "accuracy 0.843177397891\n",
      "confusion matrix\n",
      " [[6941  490]\n",
      " [1042 1296]]\n",
      "====Iteration 1  ====\n",
      "accuracy 0.848705087522\n",
      "confusion matrix\n",
      " [[6941  490]\n",
      " [ 988 1350]]\n",
      "====Iteration 2  ====\n",
      "accuracy 0.842972668646\n",
      "confusion matrix\n",
      " [[6901  530]\n",
      " [1004 1334]]\n",
      "====Iteration 3  ====\n",
      "accuracy 0.839901729962\n",
      "confusion matrix\n",
      " [[6911  520]\n",
      " [1044 1294]]\n",
      "====Iteration 4  ====\n",
      "accuracy 0.845634148838\n",
      "confusion matrix\n",
      " [[6928  503]\n",
      " [1005 1333]]\n",
      "====Iteration 5  ====\n",
      "accuracy 0.848193264408\n",
      "confusion matrix\n",
      " [[6959  472]\n",
      " [1011 1327]]\n",
      "====Iteration 6  ====\n",
      "accuracy 0.844405773365\n",
      "confusion matrix\n",
      " [[6892  539]\n",
      " [ 981 1357]]\n",
      "====Iteration 7  ====\n",
      "accuracy 0.839697000717\n",
      "confusion matrix\n",
      " [[6897  534]\n",
      " [1032 1306]]\n",
      "====Iteration 8  ====\n",
      "accuracy 0.846248336575\n",
      "confusion matrix\n",
      " [[6947  484]\n",
      " [1018 1320]]\n",
      "====Iteration 9  ====\n",
      "accuracy 0.84901218139\n",
      "confusion matrix\n",
      " [[6973  458]\n",
      " [1017 1321]]\n"
     ]
    }
   ],
   "source": [
    "# LR model #1\n",
    "lr_clf = LogisticRegression(penalty='l2', C=1.0) # get object\n",
    "\n",
    "iter_num=0\n",
    "# the indices are the rows used for training and testing in each iteration\n",
    "for train_indices, test_indices in sss.split(X,y): \n",
    "    X_train = X[train_indices]  # train indices for X\n",
    "    y_train = y[train_indices]  # train indices for y\n",
    "    \n",
    "    X_test = X[test_indices]    # test indices for X\n",
    "    y_test = y[test_indices]    # test indices for y\n",
    "    \n",
    "    # train the reusable logisitc regression model on the training data\n",
    "    lr_clf.fit(X_train,y_train)  # train object\n",
    "    y_hat = lr_clf.predict(X_test) # get test set precitions\n",
    "\n",
    "    # accuracy and confusion matrix for this iterations of training/testing\n",
    "    acc = mt.accuracy_score(y_test,y_hat)\n",
    "    conf = mt.confusion_matrix(y_test,y_hat)\n",
    "    print(\"====Iteration\",iter_num,\" ====\")\n",
    "    print(\"accuracy\", acc )\n",
    "    print(\"confusion matrix\\n\",conf)\n",
    "    iter_num+=1\n"
   ]
  },
  {
   "cell_type": "code",
   "execution_count": 33,
   "metadata": {},
   "outputs": [
    {
     "name": "stdout",
     "output_type": "stream",
     "text": [
      "The mean accuracy for this model is  0.844794758931\n"
     ]
    }
   ],
   "source": [
    "# Get the mean accuracy\n",
    "\n",
    "# Load the accuracies\n",
    "accuracies_lr_clf = cross_val_score(lr_clf, X, y=y, cv=sss) # this also can help with parallelism\n",
    "\n",
    "# Print out the mean \n",
    "mean_lr_clf = np.mean(accuracies_lr_clf)\n",
    "print(\"The mean accuracy for this model is \", mean_lr_clf)"
   ]
  },
  {
   "cell_type": "code",
   "execution_count": 36,
   "metadata": {},
   "outputs": [
    {
     "name": "stdout",
     "output_type": "stream",
     "text": [
      "====Iteration 0  ====\n",
      "accuracy 0.844712867233\n",
      "confusion matrix\n",
      " [[6947  484]\n",
      " [1033 1305]]\n",
      "====Iteration 1  ====\n",
      "accuracy 0.848705087522\n",
      "confusion matrix\n",
      " [[6935  496]\n",
      " [ 982 1356]]\n",
      "====Iteration 2  ====\n",
      "accuracy 0.843279762514\n",
      "confusion matrix\n",
      " [[6899  532]\n",
      " [ 999 1339]]\n",
      "====Iteration 3  ====\n",
      "accuracy 0.839697000717\n",
      "confusion matrix\n",
      " [[6883  548]\n",
      " [1018 1320]]\n",
      "====Iteration 4  ====\n",
      "accuracy 0.846248336575\n",
      "confusion matrix\n",
      " [[6929  502]\n",
      " [1000 1338]]\n",
      "====Iteration 5  ====\n",
      "accuracy 0.848602722899\n",
      "confusion matrix\n",
      " [[6961  470]\n",
      " [1009 1329]]\n",
      "====Iteration 6  ====\n",
      "accuracy 0.845224690347\n",
      "confusion matrix\n",
      " [[6901  530]\n",
      " [ 982 1356]]\n",
      "====Iteration 7  ====\n",
      "accuracy 0.839901729962\n",
      "confusion matrix\n",
      " [[6885  546]\n",
      " [1018 1320]]\n",
      "====Iteration 8  ====\n",
      "accuracy 0.846657795066\n",
      "confusion matrix\n",
      " [[6927  504]\n",
      " [ 994 1344]]\n",
      "====Iteration 9  ====\n",
      "accuracy 0.848807452145\n",
      "confusion matrix\n",
      " [[6964  467]\n",
      " [1010 1328]]\n"
     ]
    }
   ],
   "source": [
    "# LR model #2\n",
    "lr_clf2 = LogisticRegression(penalty='l1', C=1.0) # get object\n",
    "\n",
    "iter_num=0\n",
    "# the indices are the rows used for training and testing in each iteration\n",
    "for train_indices2, test_indices2 in sss.split(X,y): \n",
    "    X_train2 = X[train_indices2]  # train indices for X\n",
    "    y_train2 = y[train_indices2]  # train indices for y\n",
    "    \n",
    "    X_test2 = X[test_indices2]    # test indices for X\n",
    "    y_test2 = y[test_indices2]    # test indices for y\n",
    "    \n",
    "    # train the reusable logisitc regression model on the training data\n",
    "    lr_clf2.fit(X_train2,y_train2)  # train object\n",
    "    y_hat2 = lr_clf2.predict(X_test2) # get test set precitions\n",
    "\n",
    "    # accuracy and confusion matrix for this iterations of training/testing\n",
    "    acc2 = mt.accuracy_score(y_test2,y_hat2)\n",
    "    conf2 = mt.confusion_matrix(y_test2,y_hat2)\n",
    "    print(\"====Iteration\",iter_num,\" ====\")\n",
    "    print(\"accuracy\", acc2 )\n",
    "    print(\"confusion matrix\\n\",conf2)\n",
    "    iter_num+=1\n"
   ]
  },
  {
   "cell_type": "code",
   "execution_count": 37,
   "metadata": {},
   "outputs": [
    {
     "name": "stdout",
     "output_type": "stream",
     "text": [
      "The mean accuracy for this model is  0.845183744498\n"
     ]
    }
   ],
   "source": [
    "# Get the mean accuracy\n",
    "\n",
    "# Load the accuracies\n",
    "accuracies_lr_clf2 = cross_val_score(lr_clf2, X, y=y, cv=sss) # this also can help with parallelism\n",
    "\n",
    "# Print out the mean \n",
    "mean_lr_clf2 = np.mean(accuracies_lr_clf2)\n",
    "print(\"The mean accuracy for this model is \", mean_lr_clf2)"
   ]
  },
  {
   "cell_type": "code",
   "execution_count": 40,
   "metadata": {},
   "outputs": [
    {
     "name": "stdout",
     "output_type": "stream",
     "text": [
      "====Iteration 0  ====\n",
      "accuracy 0.799672433207\n",
      "confusion matrix\n",
      " [[5823 1608]\n",
      " [ 349 1989]]\n",
      "====Iteration 1  ====\n",
      "accuracy 0.799570068584\n",
      "confusion matrix\n",
      " [[5809 1622]\n",
      " [ 336 2002]]\n",
      "====Iteration 2  ====\n",
      "accuracy 0.792711638858\n",
      "confusion matrix\n",
      " [[5777 1654]\n",
      " [ 371 1967]]\n",
      "====Iteration 3  ====\n",
      "accuracy 0.796908588392\n",
      "confusion matrix\n",
      " [[5782 1649]\n",
      " [ 335 2003]]\n",
      "====Iteration 4  ====\n",
      "accuracy 0.800184256321\n",
      "confusion matrix\n",
      " [[5836 1595]\n",
      " [ 357 1981]]\n",
      "====Iteration 5  ====\n",
      "accuracy 0.806223769065\n",
      "confusion matrix\n",
      " [[5850 1581]\n",
      " [ 312 2026]]\n",
      "====Iteration 6  ====\n",
      "accuracy 0.795782577541\n",
      "confusion matrix\n",
      " [[5781 1650]\n",
      " [ 345 1993]]\n",
      "====Iteration 7  ====\n",
      "accuracy 0.796499129901\n",
      "confusion matrix\n",
      " [[5802 1629]\n",
      " [ 359 1979]]\n",
      "====Iteration 8  ====\n",
      "accuracy 0.794758931313\n",
      "confusion matrix\n",
      " [[5765 1666]\n",
      " [ 339 1999]]\n",
      "====Iteration 9  ====\n",
      "accuracy 0.800491350189\n",
      "confusion matrix\n",
      " [[5824 1607]\n",
      " [ 342 1996]]\n"
     ]
    }
   ],
   "source": [
    "# LR model #3\n",
    "lr_clf3 = LogisticRegression(penalty='l1', C=1.0, class_weight='balanced') # get object\n",
    "\n",
    "iter_num=0\n",
    "# the indices are the rows used for training and testing in each iteration\n",
    "for train_indices3, test_indices3 in sss.split(X,y): \n",
    "    X_train3 = X[train_indices3]  # train indices for X\n",
    "    y_train3 = y[train_indices3]  # train indices for y\n",
    "    \n",
    "    X_test3 = X[test_indices3]    # test indices for X\n",
    "    y_test3 = y[test_indices3]    # test indices for y\n",
    "    \n",
    "    # train the reusable logisitc regression model on the training data\n",
    "    lr_clf3.fit(X_train3,y_train3)  # train object\n",
    "    y_hat3 = lr_clf3.predict(X_test3) # get test set precitions\n",
    "\n",
    "    # accuracy and confusion matrix for this iterations of training/testing\n",
    "    acc3 = mt.accuracy_score(y_test3,y_hat3)\n",
    "    conf3 = mt.confusion_matrix(y_test3,y_hat3)\n",
    "    print(\"====Iteration\",iter_num,\" ====\")\n",
    "    print(\"accuracy\", acc3 )\n",
    "    print(\"confusion matrix\\n\",conf3)\n",
    "    iter_num+=1\n"
   ]
  },
  {
   "cell_type": "code",
   "execution_count": 41,
   "metadata": {},
   "outputs": [
    {
     "name": "stdout",
     "output_type": "stream",
     "text": [
      "The mean accuracy for this model is  0.798485003583\n"
     ]
    }
   ],
   "source": [
    "# Get the mean accuracy\n",
    "\n",
    "# Load the accuracies\n",
    "accuracies_lr_clf3 = cross_val_score(lr_clf3, X, y=y, cv=sss) # this also can help with parallelism\n",
    "\n",
    "# Print out the mean \n",
    "mean_lr_clf3 = np.mean(accuracies_lr_clf3)\n",
    "print(\"The mean accuracy for this model is \", mean_lr_clf3)"
   ]
  },
  {
   "cell_type": "code",
   "execution_count": 42,
   "metadata": {},
   "outputs": [
    {
     "name": "stdout",
     "output_type": "stream",
     "text": [
      "====Iteration 0  ====\n",
      "accuracy 0.797829869997\n",
      "confusion matrix\n",
      " [[5819 1612]\n",
      " [ 363 1975]]\n",
      "====Iteration 1  ====\n",
      "accuracy 0.796703859146\n",
      "confusion matrix\n",
      " [[5794 1637]\n",
      " [ 349 1989]]\n",
      "====Iteration 2  ====\n",
      "accuracy 0.791380898761\n",
      "confusion matrix\n",
      " [[5760 1671]\n",
      " [ 367 1971]]\n",
      "====Iteration 3  ====\n",
      "accuracy 0.797318046883\n",
      "confusion matrix\n",
      " [[5797 1634]\n",
      " [ 346 1992]]\n",
      "====Iteration 4  ====\n",
      "accuracy 0.792302180366\n",
      "confusion matrix\n",
      " [[5738 1693]\n",
      " [ 336 2002]]\n",
      "====Iteration 5  ====\n",
      "accuracy 0.8023339134\n",
      "confusion matrix\n",
      " [[5817 1614]\n",
      " [ 317 2021]]\n",
      "====Iteration 6  ====\n",
      "accuracy 0.785136656771\n",
      "confusion matrix\n",
      " [[5657 1774]\n",
      " [ 325 2013]]\n",
      "====Iteration 7  ====\n",
      "accuracy 0.788821783192\n",
      "confusion matrix\n",
      " [[5710 1721]\n",
      " [ 342 1996]]\n",
      "====Iteration 8  ====\n",
      "accuracy 0.791073804893\n",
      "confusion matrix\n",
      " [[5720 1711]\n",
      " [ 330 2008]]\n",
      "====Iteration 9  ====\n",
      "accuracy 0.79537311905\n",
      "confusion matrix\n",
      " [[5764 1667]\n",
      " [ 332 2006]]\n"
     ]
    }
   ],
   "source": [
    "# LR model #4\n",
    "lr_clf4 = LogisticRegression(penalty='l2', C=1.0, class_weight='balanced') # get object\n",
    "\n",
    "iter_num=0\n",
    "# the indices are the rows used for training and testing in each iteration\n",
    "for train_indices4, test_indices4 in sss.split(X,y): \n",
    "    X_train4 = X[train_indices4]  # train indices for X\n",
    "    y_train4 = y[train_indices4]  # train indices for y\n",
    "    \n",
    "    X_test4 = X[test_indices4]    # test indices for X\n",
    "    y_test4 = y[test_indices4]    # test indices for y\n",
    "    \n",
    "    # train the reusable logisitc regression model on the training data\n",
    "    lr_clf4.fit(X_train4,y_train4)  # train object\n",
    "    y_hat4 = lr_clf4.predict(X_test4) # get test set precitions\n",
    "\n",
    "    # accuracy and confusion matrix for this iterations of training/testing\n",
    "    acc4 = mt.accuracy_score(y_test4,y_hat4)\n",
    "    conf4 = mt.confusion_matrix(y_test4,y_hat4)\n",
    "    print(\"====Iteration\",iter_num,\" ====\")\n",
    "    print(\"accuracy\", acc4 )\n",
    "    print(\"confusion matrix\\n\",conf4)\n",
    "    iter_num+=1"
   ]
  },
  {
   "cell_type": "code",
   "execution_count": 43,
   "metadata": {},
   "outputs": [
    {
     "name": "stdout",
     "output_type": "stream",
     "text": [
      "The mean accuracy for this model is  0.793827413246\n"
     ]
    }
   ],
   "source": [
    "# Get the mean accuracy\n",
    "\n",
    "# Load the accuracies\n",
    "accuracies_lr_clf4 = cross_val_score(lr_clf4, X, y=y, cv=sss) # this also can help with parallelism\n",
    "\n",
    "# Print out the mean \n",
    "mean_lr_clf4 = np.mean(accuracies_lr_clf4)\n",
    "print(\"The mean accuracy for this model is \", mean_lr_clf4)"
   ]
  },
  {
   "cell_type": "code",
   "execution_count": 50,
   "metadata": {},
   "outputs": [
    {
     "name": "stdout",
     "output_type": "stream",
     "text": [
      "The mean accuracy for RFE model 1 is  0.764950353158\n",
      "------------------------------------------------------------------------\n",
      "The mean accuracy for RFE model 2 is  0.769372504862\n",
      "------------------------------------------------------------------------\n",
      "The mean accuracy for RFE model 3 is  0.820923328898\n",
      "------------------------------------------------------------------------\n",
      "The mean accuracy for Logistic Regression 1 is  0.844794758931\n",
      "------------------------------------------------------------------------\n",
      "The mean accuracy for Logistic Regression 2 is  0.845183744498\n",
      "------------------------------------------------------------------------\n",
      "The mean accuracy for Logistic Regression 3 is  0.798485003583\n",
      "------------------------------------------------------------------------\n",
      "The mean accuracy for Logistic Regression 4  0.793827413246\n",
      "------------------------------------------------------------------------\n",
      "----- Logistic Regression model #2 has the highest accuary, 84.47% -----\n"
     ]
    }
   ],
   "source": [
    "# Accuracies for comparision for each RFE model and LR model\n",
    "\n",
    "# LR models that incorporate feature selection \n",
    "\n",
    "# RFE model 1\n",
    "# Set to pick 3 features \n",
    "print(\"The mean accuracy for RFE model 1 is \", mean_rfe)\n",
    "print('------------------------------------------------------------------------')\n",
    "\n",
    "# RFE model 2\n",
    "# Set to pick 5 features \n",
    "print(\"The mean accuracy for RFE model 2 is \", mean_rfe2)\n",
    "print('------------------------------------------------------------------------')\n",
    "\n",
    "# RFE model 3\n",
    "# Set to pick 10 features \n",
    "print(\"The mean accuracy for RFE model 3 is \", mean_rfe3)\n",
    "print('------------------------------------------------------------------------')\n",
    "\n",
    "# LR models with all 11 features\n",
    "\n",
    "# Model 1\n",
    "print(\"The mean accuracy for Logistic Regression 1 is \", mean_lr_clf)\n",
    "print('------------------------------------------------------------------------')\n",
    "\n",
    "# Model 2\n",
    "print(\"The mean accuracy for Logistic Regression 2 is \", mean_lr_clf2)\n",
    "print('------------------------------------------------------------------------')\n",
    "\n",
    "# Model 3\n",
    "print(\"The mean accuracy for Logistic Regression 3 is \", mean_lr_clf3)\n",
    "print('------------------------------------------------------------------------')\n",
    "\n",
    "# Model 4\n",
    "print(\"The mean accuracy for Logistic Regression 4 \", mean_lr_clf4)\n",
    "print('------------------------------------------------------------------------')\n",
    "\n",
    "print('----- Logistic Regression model #2 has the highest accuary, 84.47% -----')"
   ]
  },
  {
   "cell_type": "markdown",
   "metadata": {},
   "source": [
    "Based on the accuracies provided above, we will select the first Linear Regression model. Next, we will interpret the weights of our model. "
   ]
  },
  {
   "cell_type": "markdown",
   "metadata": {},
   "source": [
    "### Interperting the Weights"
   ]
  },
  {
   "cell_type": "markdown",
   "metadata": {},
   "source": [
    "Very large attribute values could just as easily be assigned a higher weight. Therefore, we normalize the feature values so that all the attributes are on the same dynamic range. Once the attributes are normalized, the weights should have magnitudes that reflect their poredictive power in the logistic regression model."
   ]
  },
  {
   "cell_type": "code",
   "execution_count": 53,
   "metadata": {},
   "outputs": [
    {
     "name": "stderr",
     "output_type": "stream",
     "text": [
      "C:\\Users\\TMccw\\Anaconda2\\lib\\site-packages\\sklearn\\utils\\validation.py:429: DataConversionWarning: Data with input dtype int64 was converted to float64 by StandardScaler.\n",
      "  warnings.warn(msg, _DataConversionWarning)\n"
     ]
    },
    {
     "name": "stdout",
     "output_type": "stream",
     "text": [
      "accuracy: 0.848909816767\n",
      "[[6965  466]\n",
      " [1010 1328]]\n",
      "condensed_education has weight of -0.367475280847\n",
      "hours_per_week has weight of -0.0790877057844\n",
      "condensed_workclass has weight of -0.0552356983765\n",
      "continent has weight of -0.0543550926689\n",
      "capital_loss has weight of 0.0\n",
      "race has weight of 0.263413248681\n",
      "age has weight of 0.324629990282\n",
      "sex has weight of 0.355800125417\n",
      "condensed_marital has weight of 0.445355645636\n",
      "capital_gain has weight of 0.487017962765\n",
      "relationship has weight of 2.36441793907\n"
     ]
    }
   ],
   "source": [
    "# we want to normalize the features based upon the mean and standard deviation of each column\n",
    "\n",
    "# scale attributes by the training set\n",
    "scl_obj = StandardScaler()\n",
    "scl_obj.fit(X_train) # find scalings for each column that make this zero mean and unit std\n",
    "\n",
    "X_train_scaled = scl_obj.transform(X_train) # apply to training\n",
    "X_test_scaled = scl_obj.transform(X_test) # apply those means and std to the test set (without snooping at the test set values)\n",
    "\n",
    "# train the model \n",
    "lr_clf2 = LogisticRegression(penalty='l1', C=1.0) # get object\n",
    "lr_clf2.fit(X_train_scaled,y_train)  # train object\n",
    "\n",
    "y_hat2 = lr_clf2.predict(X_test_scaled) # get test set precitions\n",
    "\n",
    "acc2 = mt.accuracy_score(y_test,y_hat2)\n",
    "conf2 = mt.confusion_matrix(y_test,y_hat2)\n",
    "print('accuracy:', acc2 )\n",
    "print(conf2 )\n",
    "\n",
    "# sort these attributes and spit them out\n",
    "zip_vars = zip(lr_clf2.coef_.T,df.columns) # combine attributes\n",
    "zip_vars = sorted(zip_vars)\n",
    "for coef, name in zip_vars:\n",
    "    print(name, 'has weight of', coef[0])"
   ]
  },
  {
   "cell_type": "markdown",
   "metadata": {},
   "source": [
    "The scaled accuracy of our Logistic Regression model is 84.89%. !!!ADD INTERPETATION OF COe!!!"
   ]
  },
  {
   "cell_type": "code",
   "execution_count": 54,
   "metadata": {},
   "outputs": [
    {
     "data": {
      "image/png": "[encoded data removed]",
      "text/plain": [
       "<matplotlib.figure.Figure at 0xc48a1d0>"
      ]
     },
     "metadata": {},
     "output_type": "display_data"
    }
   ],
   "source": [
    "# now let's make a pandas Series with the names and values, and plot them\n",
    "plt.style.use('ggplot')\n",
    "\n",
    "weights = pd.Series(lr_clf.coef_[0])\n",
    "weights.plot(kind='bar')\n",
    "plt.show()"
   ]
  },
  {
   "cell_type": "code",
   "execution_count": null,
   "metadata": {
    "collapsed": true
   },
   "outputs": [],
   "source": [
    "\n"
   ]
  },
  {
   "cell_type": "markdown",
   "metadata": {},
   "source": [
    "### SVM"
   ]
  },
  {
   "cell_type": "code",
   "execution_count": 55,
   "metadata": {
    "collapsed": true
   },
   "outputs": [],
   "source": [
    "# Run through the cross validation loop and set the training and testing variable for one single iteration\n",
    "for train_indices, test_indices in sss.split(X,y): \n",
    "    X_train = X[train_indices]  #train indices for X\n",
    "    y_train = y[train_indices]  #train indices for y\n",
    "    \n",
    "    X_test = X[test_indices]    #test indices for X\n",
    "    y_test = y[test_indices]    #test indices for y\n",
    "    \n",
    "X_train_scaled = scl_obj.transform(X_train) #apply to training\n",
    "X_test_scaled = scl_obj.transform(X_test)   #apply to testing"
   ]
  },
  {
   "cell_type": "code",
   "execution_count": 58,
   "metadata": {},
   "outputs": [
    {
     "name": "stdout",
     "output_type": "stream",
     "text": [
      "accuracy: 0.844815231856\n",
      "[[7038  393]\n",
      " [1123 1215]]\n"
     ]
    }
   ],
   "source": [
    "# Train the model just as before\n",
    "svm_clf = SVC(C=0.25, kernel='rbf', gamma='auto', random_state=True, decision_function_shape='ovr') # get object\n",
    "svm_clf.fit(X_train_scaled, y_train)  # train object\n",
    "\n",
    "y_hat = svm_clf.predict(X_test_scaled) # get test set precitions\n",
    "\n",
    "acc = mt.accuracy_score(y_test,y_hat)\n",
    "conf = mt.confusion_matrix(y_test,y_hat)\n",
    "print('accuracy:', acc )\n",
    "print(conf)"
   ]
  },
  {
   "cell_type": "code",
   "execution_count": 59,
   "metadata": {
    "scrolled": true
   },
   "outputs": [
    {
     "name": "stdout",
     "output_type": "stream",
     "text": [
      "(14456L, 41L)\n",
      "(14456L,)\n",
      "[7437 7019]\n"
     ]
    }
   ],
   "source": [
    "# Support vectors\n",
    "print(svm_clf.support_vectors_.shape)\n",
    "print(svm_clf.support_.shape)\n",
    "print(svm_clf.n_support_ )"
   ]
  },
  {
   "cell_type": "markdown",
   "metadata": {},
   "source": [
    "Plotting Support Vectors Vs. Original data"
   ]
  },
  {
   "cell_type": "code",
   "execution_count": 60,
   "metadata": {},
   "outputs": [
    {
     "name": "stdout",
     "output_type": "stream",
     "text": [
      "<class 'pandas.core.frame.DataFrame'>\n",
      "Int64Index: 14456 entries, 35646 to 32784\n",
      "Data columns (total 12 columns):\n",
      "age                    14456 non-null int64\n",
      "relationship           14456 non-null object\n",
      "race                   14456 non-null object\n",
      "sex                    14456 non-null object\n",
      "capital_gain           14456 non-null int64\n",
      "capital_loss           14456 non-null int64\n",
      "hours_per_week         14456 non-null int64\n",
      "condensed_education    14456 non-null object\n",
      "continent              14456 non-null object\n",
      "condensed_marital      14456 non-null object\n",
      "condensed_workclass    14456 non-null object\n",
      "income_binary          14456 non-null object\n",
      "dtypes: int64(4), object(8)\n",
      "memory usage: 1.4+ MB\n"
     ]
    },
    {
     "name": "stderr",
     "output_type": "stream",
     "text": [
      "C:\\Users\\TMccw\\Anaconda2\\lib\\site-packages\\ipykernel\\__main__.py:6: SettingWithCopyWarning: \n",
      "A value is trying to be set on a copy of a slice from a DataFrame.\n",
      "Try using .loc[row_indexer,col_indexer] = value instead\n",
      "\n",
      "See the caveats in the documentation: http://pandas.pydata.org/pandas-docs/stable/indexing.html#indexing-view-versus-copy\n"
     ]
    }
   ],
   "source": [
    "# Make a dataframe of the training data\n",
    "df_tested_on = df.iloc[train_indices] # indices chosen for training\n",
    "# Now get the support vectors from the trained model\n",
    "df_support = df_tested_on.iloc[svm_clf.support_,:]\n",
    "\n",
    "df_support['income_binary'] = y[svm_clf.support_] # add back in the 'income_binary' Column to the pandas dataframe\n",
    "df['income_binary'] = y # add it back into original data set\n",
    "df_support.info()"
   ]
  },
  {
   "cell_type": "code",
   "execution_count": 61,
   "metadata": {},
   "outputs": [
    {
     "data": {
      "image/png": "[encoded data removed]",
      "text/plain": [
       "<matplotlib.figure.Figure at 0x1320dc18>"
      ]
     },
     "metadata": {},
     "output_type": "display_data"
    },
    {
     "data": {
      "image/png": "[encoded data removed]",
      "text/plain": [
       "<matplotlib.figure.Figure at 0x13646240>"
      ]
     },
     "metadata": {},
     "output_type": "display_data"
    },
    {
     "data": {
      "image/png": "[encoded data removed]",
      "text/plain": [
       "<matplotlib.figure.Figure at 0x11053550>"
      ]
     },
     "metadata": {},
     "output_type": "display_data"
    },
    {
     "data": {
      "image/png": "[encoded data removed]",
      "text/plain": [
       "<matplotlib.figure.Figure at 0x2286a6a0>"
      ]
     },
     "metadata": {},
     "output_type": "display_data"
    }
   ],
   "source": [
    "# Statistics of these attributes\n",
    "from pandas.tools.plotting import boxplot\n",
    "\n",
    "# group the original data and the support vectors\n",
    "df_grouped_support = df_support.groupby(['income_binary'])\n",
    "df_grouped = df.groupby(['income_binary'])\n",
    "\n",
    "# plot KDE of Different variables\n",
    "vars_to_plot = ['age','capital_gain','capital_loss', 'hours_per_week']\n",
    "\n",
    "for v in vars_to_plot:\n",
    "    plt.figure(figsize=(10,4))\n",
    "    # plot support vector stats\n",
    "    plt.subplot(1,2,1)\n",
    "    ax = df_grouped_support[v].plot.kde() \n",
    "    plt.legend(['<=50K','>=50K'])\n",
    "    plt.title(v+' (Instances chosen as Support Vectors)')\n",
    "    \n",
    "    # plot original distributions\n",
    "    plt.subplot(1,2,2)\n",
    "    ax = df_grouped[v].plot.kde() \n",
    "    plt.legend(['<=50K','>=50K'])\n",
    "    plt.title(v+' (Original)')"
   ]
  },
  {
   "cell_type": "code",
   "execution_count": null,
   "metadata": {
    "collapsed": true
   },
   "outputs": [],
   "source": []
  }
 ],
 "metadata": {
  "kernelspec": {
   "display_name": "Python 3",
   "language": "python",
   "name": "python3"
  },
  "language_info": {
   "codemirror_mode": {
    "name": "ipython",
    "version": 3
   },
   "file_extension": ".py",
   "mimetype": "text/x-python",
   "name": "python",
   "nbconvert_exporter": "python",
   "pygments_lexer": "ipython3",
   "version": "3.6.0"
  }
 },
 "nbformat": 4,
 "nbformat_minor": 2
}
