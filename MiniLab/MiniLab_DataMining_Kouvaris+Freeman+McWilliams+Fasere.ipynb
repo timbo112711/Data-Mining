{
 "cells": [
  {
   "cell_type": "markdown",
   "metadata": {},
   "source": [
    "# Mini-Lab Logistic Regression and SVMs \n",
    "\n",
    "### Peter Kouvaris, Ireti Fasere, Dan Freeman, Tim McWilliams\n",
    "\n",
    "Our team reviewed the accuracy that is achievable when using support vector machines and logistic regression. Our data set includes a variable, *income_binary*, with two outcomes that we attempt to predict. Data was split into an 80% training set and 20% testing set using a few different versions of SciKit's sampling tools. \n",
    "\n",
    "In the following code, we review how different model outcomes change. We review what happens when all variables are included, a reduced number of variables are included, varying kernel types are used, varying parameters are fed to functions, variables are transformed, and the effects of robust methods like feature selection.\n",
    "\n",
    "Our conclusions: \n",
    "\n",
    "* Both models provide a substantial level of classifcation accuracy compared to methods previously studied. \n",
    "\n",
    "\n",
    "* Our most accurate logistic regression model scored 84.47% accuracy while our most accurate support vector machine scored 86.6%.\n",
    "\n",
    "\n",
    "* Both required substantial training time compared to the near instantaneous calculation time of linear regression models we had used in the past. Logistic regression models have a tendency to provide slightly lower accuracy but faster calculation time. Support vector machines act in the reverse, in that they train slower, but provide higher accuracy. For tasks that require constant re-training, logistic regression would be beneficial. For tasks that did not require as frequent training and demanded every bit of accuracy one could get, support vector machines would be the best choice.\n",
    "\n",
    "\n",
    "* Certain parameters greatly increase the calculation time of each algorithm. The specifics of these are discussed below in each algorithm's respective sections."
   ]
  },
  {
   "cell_type": "code",
   "execution_count": 245,
   "metadata": {
    "collapsed": true
   },
   "outputs": [],
   "source": [
    "# Imports for data-preprocessing\n",
    "import pandas as pd\n",
    "import numpy as np\n",
    "from __future__ import print_function\n",
    "\n",
    "# Import feature selection/LogR libraries\n",
    "from sklearn.linear_model import LogisticRegression\n",
    "from sklearn import metrics as mt\n",
    "from sklearn.feature_selection import RFE\n",
    "from sklearn.model_selection import cross_val_score\n",
    "from sklearn.preprocessing import StandardScaler\n",
    "\n",
    "# SVM using SVC\n",
    "from sklearn.svm import SVC\n",
    "\n",
    "# Viz libraries\n",
    "import matplotlib.pyplot as plt\n",
    "from string import ascii_letters\n",
    "import seaborn as sns\n",
    "%matplotlib inline"
   ]
  },
  {
   "cell_type": "code",
   "execution_count": 265,
   "metadata": {
    "collapsed": true
   },
   "outputs": [],
   "source": [
    "# Import data \n",
    "df = pd.read_csv('../data/master.csv')"
   ]
  },
  {
   "cell_type": "code",
   "execution_count": 266,
   "metadata": {
    "collapsed": true
   },
   "outputs": [],
   "source": [
    "# Delete unwanted variables\n",
    "del df['workclass']\n",
    "del df['education']\n",
    "del df['education_num']\n",
    "del df['marital_status']\n",
    "del df['occupation']\n",
    "del df['native_country'] \n",
    "del df['Unnamed: 0']"
   ]
  },
  {
   "cell_type": "code",
   "execution_count": 267,
   "metadata": {},
   "outputs": [
    {
     "data": {
      "text/html": [
       "<div>\n",
       "<table border=\"1\" class=\"dataframe\">\n",
       "  <thead>\n",
       "    <tr style=\"text-align: right;\">\n",
       "      <th></th>\n",
       "      <th>age</th>\n",
       "      <th>relationship</th>\n",
       "      <th>race</th>\n",
       "      <th>sex</th>\n",
       "      <th>capital_gain</th>\n",
       "      <th>capital_loss</th>\n",
       "      <th>hours_per_week</th>\n",
       "      <th>income_binary</th>\n",
       "      <th>condensed_education</th>\n",
       "      <th>continent</th>\n",
       "      <th>condensed_marital</th>\n",
       "      <th>condensed_workclass</th>\n",
       "    </tr>\n",
       "  </thead>\n",
       "  <tbody>\n",
       "    <tr>\n",
       "      <th>0</th>\n",
       "      <td>39</td>\n",
       "      <td>Not-in-family</td>\n",
       "      <td>White</td>\n",
       "      <td>Male</td>\n",
       "      <td>2174</td>\n",
       "      <td>0</td>\n",
       "      <td>40</td>\n",
       "      <td>&lt;=50K</td>\n",
       "      <td>Bachelors</td>\n",
       "      <td>United States</td>\n",
       "      <td>Never</td>\n",
       "      <td>Government</td>\n",
       "    </tr>\n",
       "    <tr>\n",
       "      <th>1</th>\n",
       "      <td>50</td>\n",
       "      <td>Husband</td>\n",
       "      <td>White</td>\n",
       "      <td>Male</td>\n",
       "      <td>0</td>\n",
       "      <td>0</td>\n",
       "      <td>13</td>\n",
       "      <td>&lt;=50K</td>\n",
       "      <td>Bachelors</td>\n",
       "      <td>United States</td>\n",
       "      <td>Married</td>\n",
       "      <td>Self-Employed</td>\n",
       "    </tr>\n",
       "    <tr>\n",
       "      <th>2</th>\n",
       "      <td>38</td>\n",
       "      <td>Not-in-family</td>\n",
       "      <td>White</td>\n",
       "      <td>Male</td>\n",
       "      <td>0</td>\n",
       "      <td>0</td>\n",
       "      <td>40</td>\n",
       "      <td>&lt;=50K</td>\n",
       "      <td>High School Graduate</td>\n",
       "      <td>United States</td>\n",
       "      <td>Divorced/Separated</td>\n",
       "      <td>Private</td>\n",
       "    </tr>\n",
       "    <tr>\n",
       "      <th>3</th>\n",
       "      <td>53</td>\n",
       "      <td>Husband</td>\n",
       "      <td>Black</td>\n",
       "      <td>Male</td>\n",
       "      <td>0</td>\n",
       "      <td>0</td>\n",
       "      <td>40</td>\n",
       "      <td>&lt;=50K</td>\n",
       "      <td>No High School Diploma</td>\n",
       "      <td>United States</td>\n",
       "      <td>Married</td>\n",
       "      <td>Private</td>\n",
       "    </tr>\n",
       "    <tr>\n",
       "      <th>4</th>\n",
       "      <td>28</td>\n",
       "      <td>Wife</td>\n",
       "      <td>Black</td>\n",
       "      <td>Female</td>\n",
       "      <td>0</td>\n",
       "      <td>0</td>\n",
       "      <td>40</td>\n",
       "      <td>&lt;=50K</td>\n",
       "      <td>Bachelors</td>\n",
       "      <td>Caribbean</td>\n",
       "      <td>Married</td>\n",
       "      <td>Private</td>\n",
       "    </tr>\n",
       "  </tbody>\n",
       "</table>\n",
       "</div>"
      ],
      "text/plain": [
       "   age    relationship    race      sex  capital_gain  capital_loss  \\\n",
       "0   39   Not-in-family   White     Male          2174             0   \n",
       "1   50         Husband   White     Male             0             0   \n",
       "2   38   Not-in-family   White     Male             0             0   \n",
       "3   53         Husband   Black     Male             0             0   \n",
       "4   28            Wife   Black   Female             0             0   \n",
       "\n",
       "   hours_per_week income_binary     condensed_education      continent  \\\n",
       "0              40         <=50K               Bachelors  United States   \n",
       "1              13         <=50K               Bachelors  United States   \n",
       "2              40         <=50K    High School Graduate  United States   \n",
       "3              40         <=50K  No High School Diploma  United States   \n",
       "4              40         <=50K               Bachelors      Caribbean   \n",
       "\n",
       "    condensed_marital condensed_workclass  \n",
       "0               Never          Government  \n",
       "1             Married       Self-Employed  \n",
       "2  Divorced/Separated             Private  \n",
       "3             Married             Private  \n",
       "4             Married             Private  "
      ]
     },
     "execution_count": 267,
     "metadata": {},
     "output_type": "execute_result"
    }
   ],
   "source": [
    "# Check df again\n",
    "df.head()"
   ]
  },
  {
   "cell_type": "markdown",
   "metadata": {},
   "source": [
    "### Training and Testing Split\n",
    "\n",
    "The data set was split into two separte sets."
   ]
  },
  {
   "cell_type": "code",
   "execution_count": 268,
   "metadata": {},
   "outputs": [
    {
     "data": {
      "text/plain": [
       "10"
      ]
     },
     "execution_count": 268,
     "metadata": {},
     "output_type": "execute_result"
    }
   ],
   "source": [
    "from sklearn.model_selection import StratifiedShuffleSplit\n",
    "\n",
    "if 'income_binary' in df:\n",
    "    y = df['income_binary'].values #get values we need \n",
    "    del df['income_binary']        #get rid of the class label\n",
    "    X = df.values            #use everything else to predict \n",
    "    \n",
    "X = pd.get_dummies(df).values\n",
    "\n",
    "# Split the data into 20% Test and 80% Train\n",
    "sss = StratifiedShuffleSplit(n_splits=10, test_size=0.20, random_state=111)\n",
    "sss.get_n_splits(X, y) #retreving the splits "
   ]
  },
  {
   "cell_type": "code",
   "execution_count": 235,
   "metadata": {},
   "outputs": [
    {
     "name": "stdout",
     "output_type": "stream",
     "text": [
      "StratifiedShuffleSplit(n_splits=10, random_state=111, test_size=0.2,\n",
      "            train_size=None)\n"
     ]
    }
   ],
   "source": [
    "print(sss)"
   ]
  },
  {
   "cell_type": "code",
   "execution_count": 269,
   "metadata": {},
   "outputs": [
    {
     "name": "stdout",
     "output_type": "stream",
     "text": [
      "TRAIN: [15163 16279 29246 ..., 21159 41049 17832] TEST: [43578  1917 17027 ..., 22163 39121  5217]\n",
      "TRAIN: [12894 40784 33210 ..., 40386 25846 36294] TEST: [22078 13800    49 ..., 31283 31586  5940]\n",
      "TRAIN: [16738 39693 30388 ...,   328 33912 39362] TEST: [24310 48705 25069 ..., 47258 14625 39292]\n",
      "TRAIN: [ 7391 39777 43398 ...,  8978 24399 34458] TEST: [ 8836  1328 27156 ..., 47164 10476 15648]\n",
      "TRAIN: [16863 33361 41054 ..., 26744 47828 11941] TEST: [18495 35842 20752 ..., 46535  4696 46808]\n",
      "TRAIN: [ 5743 21257 30549 ...,  5927  7506 19162] TEST: [21737 30911  7484 ..., 19717 27662 19780]\n",
      "TRAIN: [18797 40559 21393 ..., 47376 19268 42562] TEST: [13861 34766  4320 ..., 42723 30153 11994]\n",
      "TRAIN: [36977 11147 24500 ..., 40130 15262 22626] TEST: [13974 35810 43678 ...,  7735 14376 40480]\n",
      "TRAIN: [32752 37107 19197 ..., 26015 32870  7076] TEST: [36370 13966 29812 ..., 20543 23045 34324]\n",
      "TRAIN: [22441 41471 48039 ..., 32784  4446 45905] TEST: [  934  1627 37667 ...,  4950 44845 21169]\n"
     ]
    }
   ],
   "source": [
    "for train_index, test_index in sss.split(X, y):\n",
    "    print(\"TRAIN:\", train_index, \"TEST:\", test_index)\n",
    "    X_train, X_test = X[train_index], X[test_index]\n",
    "    y_train, y_test = y[train_index], y[test_index]"
   ]
  },
  {
   "cell_type": "code",
   "execution_count": 202,
   "metadata": {},
   "outputs": [
    {
     "name": "stdout",
     "output_type": "stream",
     "text": [
      "[[ 1.          0.07722902  0.05694383 ..., -0.19126318  0.17852802\n",
      "   0.02675379]\n",
      " [ 0.07722902  1.         -0.03144077 ..., -0.03698639  0.08293252\n",
      "  -0.01927657]\n",
      " [ 0.05694383 -0.03144077  1.         ..., -0.0251755   0.03484551\n",
      "  -0.01227187]\n",
      " ..., \n",
      " [-0.19126318 -0.03698639 -0.0251755  ...,  1.         -0.53984939\n",
      "  -0.37366187]\n",
      " [ 0.17852802  0.08293252  0.03484551 ..., -0.53984939  1.         -0.08886058]\n",
      " [ 0.02675379 -0.01927657 -0.01227187 ..., -0.37366187 -0.08886058  1.        ]]\n"
     ]
    }
   ],
   "source": [
    "correlation_matrix = np.corrcoef(X.T)\n",
    "print(correlation_matrix)"
   ]
  },
  {
   "cell_type": "code",
   "execution_count": 203,
   "metadata": {
    "collapsed": true
   },
   "outputs": [],
   "source": [
    "def correlation_matrix(df):\n",
    "    from matplotlib import pyplot as plt\n",
    "    from matplotlib import cm as cm\n",
    "\n",
    "    fig = plt.figure()\n",
    "    ax1 = fig.add_subplot(111)\n",
    "    cmap = cm.get_cmap('jet', 30)\n",
    "    cax = ax1.imshow(df.corr(), interpolation=\"nearest\", cmap=cmap)\n",
    "    ax1.grid(True)\n",
    "    plt.title('Abalone Feature Correlation')\n",
    "    labels=['age','race', 'sex', \n",
    "            'condensed_education', 'continent', 'condensed_marital', 'condensed_workclass']\n",
    "    ax1.set_xticklabels(labels,fontsize=10)\n",
    "    ax1.set_yticklabels(labels,fontsize=10)\n",
    "    # Add colorbar, make sure to specify tick locations to match desired ticklabels\n",
    "    fig.colorbar(cax, ticks=[-1, -0.75, -0.50, -0.25, 0, 0.25, 0.50, .75,.8,.85,.90,.95,1])\n",
    "    plt.show()"
   ]
  },
  {
   "cell_type": "code",
   "execution_count": 204,
   "metadata": {},
   "outputs": [
    {
     "data": {
      "image/png": "[encoded data removed]",
      "text/plain": [
       "<matplotlib.figure.Figure at 0x11af7f710>"
      ]
     },
     "metadata": {},
     "output_type": "display_data"
    }
   ],
   "source": [
    "correlation_matrix(df)"
   ]
  },
  {
   "cell_type": "code",
   "execution_count": 171,
   "metadata": {},
   "outputs": [
    {
     "data": {
      "text/plain": [
       "<matplotlib.axes._subplots.AxesSubplot at 0x11be3e908>"
      ]
     },
     "execution_count": 171,
     "metadata": {},
     "output_type": "execute_result"
    },
    {
     "data": {
      "image/png": "[encoded data removed]",
      "text/plain": [
       "<matplotlib.figure.Figure at 0x11bd269e8>"
      ]
     },
     "metadata": {},
     "output_type": "display_data"
    }
   ],
   "source": [
    "# Correlation between continuous variables \n",
    "\n",
    "sns.set(style=\"white\")\n",
    "\n",
    "# Compute the correlation matrix\n",
    "corr = df.corr()\n",
    "\n",
    "# Generate a mask for the upper triangle\n",
    "mask = np.zeros_like(corr, dtype=np.bool)\n",
    "mask[np.triu_indices_from(mask)] = True\n",
    "\n",
    "# Set up the matplotlib figure\n",
    "f, ax = plt.subplots(figsize=(11, 9))\n",
    "\n",
    "# Generate a custom diverging colormap\n",
    "cmap = sns.diverging_palette(220, 10, as_cmap=True)\n",
    "\n",
    "# Draw the heatmap with the mask and correct aspect ratio\n",
    "sns.heatmap(corr, mask=mask, cmap=cmap, vmax=.3, center=0,\n",
    "            square=True, linewidths=.5, cbar_kws={\"shrink\": .5})\n"
   ]
  },
  {
   "cell_type": "markdown",
   "metadata": {},
   "source": [
    "### Feature Selection\n",
    "\n",
    "The goal here is to figure out how incorporating a certain feature selection method, recursive feature elimination (RFE), into our logistic regression models changes the prediction accuracy. The RFE selects features by recursively choosing smaller and smaller groups of features. The selection starts off with all of the features in the data set. Then the least important features are pruned off of the current feature set. This is recursively repeated on the pruned set until it stops on the number that is chosen. Once the feature selection is complete, those chosen features will be used in the model.\n",
    "\n",
    "From the below feature selection models, we can gain further insight into which variables provide the most weight."
   ]
  },
  {
   "cell_type": "code",
   "execution_count": 262,
   "metadata": {},
   "outputs": [
    {
     "name": "stdout",
     "output_type": "stream",
     "text": [
      "Num Features: 10\n",
      "Selected Features: \n",
      " relationship_ Husband                         True\n",
      "relationship_ Own-child                       True\n",
      "relationship_ Wife                            True\n",
      "condensed_education_Associates                True\n",
      "condensed_education_Doctorate                 True\n",
      "condensed_education_High School Graduate      True\n",
      "condensed_education_No High School Diploma    True\n",
      "condensed_education_Some College              True\n",
      "continent_Latin America                       True\n",
      "continent_Mexico                              True\n",
      "dtype: bool\n",
      "Feature Ranking: [30 32 31 28  1 17  6  1 13  1  8 29 16 18 20  4 21  1 12  1  1  5  1  1 19\n",
      "  9 23 10  1  1 15 11 26 14  7  3 22 27 24 25  2]\n"
     ]
    }
   ],
   "source": [
    "# Feature extraction #1\n",
    "# Set number of features to 3\n",
    "model = LogisticRegression(penalty='l2', C=1.0)\n",
    "rfe = RFE(model, 10)\n",
    "fit = rfe.fit(X, y)\n",
    "print(\"Num Features:\", fit.n_features_)\n",
    "features = pd.Series(fit.support_, index = X.columns)\n",
    "print(\"Selected Features: \\n\", features[features==True])\n",
    "print(\"Feature Ranking:\", fit.ranking_)\n",
    "\n"
   ]
  },
  {
   "cell_type": "code",
   "execution_count": 263,
   "metadata": {},
   "outputs": [
    {
     "name": "stdout",
     "output_type": "stream",
     "text": [
      "Num Features: 20\n",
      "Selected Features: \n",
      " relationship_ Husband                              True\n",
      "relationship_ Other-relative                       True\n",
      "relationship_ Own-child                            True\n",
      "relationship_ Wife                                 True\n",
      "race_ Amer-Indian-Eskimo                           True\n",
      "sex_ Female                                        True\n",
      "condensed_education_Associates                     True\n",
      "condensed_education_Doctorate                      True\n",
      "condensed_education_High School Graduate           True\n",
      "condensed_education_Masters/Professional School    True\n",
      "condensed_education_No High School Diploma         True\n",
      "condensed_education_Some College                   True\n",
      "continent_Canada                                   True\n",
      "continent_Europe                                   True\n",
      "continent_Latin America                            True\n",
      "continent_Mexico                                   True\n",
      "continent_United States                            True\n",
      "condensed_marital_Married                          True\n",
      "condensed_marital_Never                            True\n",
      "condensed_workclass_Uknown/Other                   True\n",
      "dtype: bool\n",
      "Selected Features: [False False False False  True False  True  True False  True  True False\n",
      " False False False  True False  True False  True  True  True  True  True\n",
      " False  True False  True  True  True False  True False False  True  True\n",
      " False False False False  True]\n",
      "Feature Ranking: [20 22 21 18  1  7  1  1  3  1  1 19  6  8 10  1 11  1  2  1  1  1  1  1  9\n",
      "  1 13  1  1  1  5  1 16  4  1  1 12 17 14 15  1]\n"
     ]
    }
   ],
   "source": [
    "# Feature extraction #2\n",
    "# Set number of features to 5\n",
    "model2 = LogisticRegression(penalty='l2', C=1.0)\n",
    "rfe2 = RFE(model2, 20)\n",
    "fit2 = rfe2.fit(X, y)\n",
    "print(\"Num Features:\", fit2.n_features_)\n",
    "features2 = pd.Series(fit2.support_, index = X.columns)\n",
    "print(\"Selected Features: \\n\", features2[features2==True])\n",
    "print(\"Selected Features:\", fit2.support_)\n",
    "print(\"Feature Ranking:\", fit2.ranking_)"
   ]
  },
  {
   "cell_type": "code",
   "execution_count": 250,
   "metadata": {},
   "outputs": [
    {
     "name": "stdout",
     "output_type": "stream",
     "text": [
      "Num Features: 41\n",
      "Selected Features: \n",
      " age                                                True\n",
      "capital_gain                                       True\n",
      "capital_loss                                       True\n",
      "hours_per_week                                     True\n",
      "relationship_ Husband                              True\n",
      "relationship_ Not-in-family                        True\n",
      "relationship_ Other-relative                       True\n",
      "relationship_ Own-child                            True\n",
      "relationship_ Unmarried                            True\n",
      "relationship_ Wife                                 True\n",
      "race_ Amer-Indian-Eskimo                           True\n",
      "race_ Asian-Pac-Islander                           True\n",
      "race_ Black                                        True\n",
      "race_ Other                                        True\n",
      "race_ White                                        True\n",
      "sex_ Female                                        True\n",
      "sex_ Male                                          True\n",
      "condensed_education_Associates                     True\n",
      "condensed_education_Bachelors                      True\n",
      "condensed_education_Doctorate                      True\n",
      "condensed_education_High School Graduate           True\n",
      "condensed_education_Masters/Professional School    True\n",
      "condensed_education_No High School Diploma         True\n",
      "condensed_education_Some College                   True\n",
      "continent_Asia                                     True\n",
      "continent_Canada                                   True\n",
      "continent_Caribbean                                True\n",
      "continent_Europe                                   True\n",
      "continent_Latin America                            True\n",
      "continent_Mexico                                   True\n",
      "continent_US Territories                           True\n",
      "continent_United States                            True\n",
      "continent_Unknown                                  True\n",
      "condensed_marital_Divorced/Separated               True\n",
      "condensed_marital_Married                          True\n",
      "condensed_marital_Never                            True\n",
      "condensed_marital_Widowed                          True\n",
      "condensed_workclass_Government                     True\n",
      "condensed_workclass_Private                        True\n",
      "condensed_workclass_Self-Employed                  True\n",
      "condensed_workclass_Uknown/Other                   True\n",
      "dtype: bool\n",
      "Selected Features: [ True  True  True  True  True  True  True  True  True  True  True  True\n",
      "  True  True  True  True  True  True  True  True  True  True  True  True\n",
      "  True  True  True  True  True  True  True  True  True  True  True  True\n",
      "  True  True  True  True  True]\n",
      "Feature Ranking: [1 1 1 1 1 1 1 1 1 1 1 1 1 1 1 1 1 1 1 1 1 1 1 1 1 1 1 1 1 1 1 1 1 1 1 1 1\n",
      " 1 1 1 1]\n"
     ]
    }
   ],
   "source": [
    "# Feature extraction #3\n",
    "# Set number of features to 10\n",
    "model3 = LogisticRegression(penalty='l2', C=1.0)\n",
    "rfe3 = RFE(model3, 50)\n",
    "fit3 = rfe3.fit(X, y)\n",
    "print(\"Num Features:\", fit3.n_features_)\n",
    "features3 = pd.Series(fit3.support_, index = X.columns)\n",
    "print(\"Selected Features: \\n\", features3[features3==True])\n",
    "print(\"Selected Features:\", fit3.support_)\n",
    "print(\"Feature Ranking:\", fit3.ranking_)"
   ]
  },
  {
   "cell_type": "markdown",
   "metadata": {},
   "source": [
    "### Logistic Regression\n",
    "\n",
    "We begin with a simple logistic regression model"
   ]
  },
  {
   "cell_type": "code",
   "execution_count": 270,
   "metadata": {},
   "outputs": [
    {
     "name": "stdout",
     "output_type": "stream",
     "text": [
      "====Iteration 0  ====\n",
      "accuracy 0.81963353465\n",
      "confusion matrix\n",
      " [[7077  354]\n",
      " [1408  930]]\n",
      "====Iteration 1  ====\n",
      "accuracy 0.820042993142\n",
      "confusion matrix\n",
      " [[7062  369]\n",
      " [1389  949]]\n",
      "====Iteration 2  ====\n",
      "accuracy 0.822090285597\n",
      "confusion matrix\n",
      " [[7062  369]\n",
      " [1369  969]]\n",
      "====Iteration 3  ====\n",
      "accuracy 0.815027126625\n",
      "confusion matrix\n",
      " [[7033  398]\n",
      " [1409  929]]\n",
      "====Iteration 4  ====\n",
      "accuracy 0.823625754939\n",
      "confusion matrix\n",
      " [[7075  356]\n",
      " [1367  971]]\n",
      "====Iteration 5  ====\n",
      "accuracy 0.82290920258\n",
      "confusion matrix\n",
      " [[7074  357]\n",
      " [1373  965]]\n",
      "====Iteration 6  ====\n",
      "accuracy 0.823318661071\n",
      "confusion matrix\n",
      " [[7039  392]\n",
      " [1334 1004]]\n",
      "====Iteration 7  ====\n",
      "accuracy 0.817586242195\n",
      "confusion matrix\n",
      " [[7050  381]\n",
      " [1401  937]]\n",
      "====Iteration 8  ====\n",
      "accuracy 0.821680827106\n",
      "confusion matrix\n",
      " [[7056  375]\n",
      " [1367  971]]\n",
      "====Iteration 9  ====\n",
      "accuracy 0.823318661071\n",
      "confusion matrix\n",
      " [[7084  347]\n",
      " [1379  959]]\n"
     ]
    }
   ],
   "source": [
    "# RFE model #1\n",
    "\n",
    "iter_num=0\n",
    "# the indices are the rows used for training and testing in each iteration\n",
    "for train_indices, test_indices in sss.split(X,y): \n",
    "    X_train = X[train_indices]  # train indices for X\n",
    "    y_train = y[train_indices]  # train indices for y\n",
    "    \n",
    "    X_test = X[test_indices]    # test indices for X\n",
    "    y_test = y[test_indices]    # test indices for y\n",
    "    \n",
    "    # train the reusable logisitc regression model on the training data\n",
    "    rfe.fit(X_train,y_train)  # train object\n",
    "    y_hat_rfe = rfe.predict(X_test) # get test set precitions\n",
    "\n",
    "    # accuracy and confusion matrix for this iterations of training/testing\n",
    "    acc_rfe1 = mt.accuracy_score(y_test,y_hat_rfe)\n",
    "    conf_rfe1 = mt.confusion_matrix(y_test,y_hat_rfe)\n",
    "    print(\"====Iteration\",iter_num,\" ====\")\n",
    "    print(\"accuracy\", acc_rfe1 )\n",
    "    print(\"confusion matrix\\n\",conf_rfe1)\n",
    "    iter_num+=1\n"
   ]
  },
  {
   "cell_type": "code",
   "execution_count": 271,
   "metadata": {},
   "outputs": [
    {
     "name": "stdout",
     "output_type": "stream",
     "text": [
      "The mean accuracy for this model is  0.820923328898\n"
     ]
    }
   ],
   "source": [
    "# Get the mean accuracy\n",
    "\n",
    "# Load the accuracies\n",
    "accuracies_rfe = cross_val_score(rfe, X, y=y, cv=sss) # this also can help with parallelism\n",
    "\n",
    "# Print out the mean \n",
    "mean_rfe = np.mean(accuracies_rfe)\n",
    "print(\"The mean accuracy for this model is \", mean_rfe)"
   ]
  },
  {
   "cell_type": "code",
   "execution_count": 272,
   "metadata": {},
   "outputs": [
    {
     "name": "stdout",
     "output_type": "stream",
     "text": [
      "====Iteration 0  ====\n",
      "accuracy 0.820554816256\n",
      "confusion matrix\n",
      " [[7082  349]\n",
      " [1404  934]]\n",
      "====Iteration 1  ====\n",
      "accuracy 0.821271368615\n",
      "confusion matrix\n",
      " [[7053  378]\n",
      " [1368  970]]\n",
      "====Iteration 2  ====\n",
      "accuracy 0.822499744088\n",
      "confusion matrix\n",
      " [[7047  384]\n",
      " [1350  988]]\n",
      "====Iteration 3  ====\n",
      "accuracy 0.816460231344\n",
      "confusion matrix\n",
      " [[7010  421]\n",
      " [1372  966]]\n",
      "====Iteration 4  ====\n",
      "accuracy 0.826184870509\n",
      "confusion matrix\n",
      " [[7064  367]\n",
      " [1331 1007]]\n",
      "====Iteration 5  ====\n",
      "accuracy 0.824342307299\n",
      "confusion matrix\n",
      " [[7060  371]\n",
      " [1345  993]]\n",
      "====Iteration 6  ====\n",
      "accuracy 0.823932848807\n",
      "confusion matrix\n",
      " [[7042  389]\n",
      " [1331 1007]]\n",
      "====Iteration 7  ====\n",
      "accuracy 0.818098065309\n",
      "confusion matrix\n",
      " [[7029  402]\n",
      " [1375  963]]\n",
      "====Iteration 8  ====\n",
      "accuracy 0.823932848807\n",
      "confusion matrix\n",
      " [[7047  384]\n",
      " [1336 1002]]\n",
      "====Iteration 9  ====\n",
      "accuracy 0.82475176579\n",
      "confusion matrix\n",
      " [[7068  363]\n",
      " [1349  989]]\n"
     ]
    }
   ],
   "source": [
    "# RFE model #2\n",
    "\n",
    "iter_num=0\n",
    "# the indices are the rows used for training and testing in each iteration\n",
    "for train_indices, test_indices in sss.split(X,y): \n",
    "    X_train = X[train_indices]  # train indices for X\n",
    "    y_train = y[train_indices]  # train indices for y\n",
    "    \n",
    "    X_test = X[test_indices]    # test indices for X\n",
    "    y_test = y[test_indices]    # test indices for y\n",
    "    \n",
    "    # train the reusable logisitc regression model on the training data\n",
    "    rfe2.fit(X_train,y_train)  # train object\n",
    "    y_hat_rfe2 = rfe2.predict(X_test) # get test set precitions\n",
    "\n",
    "    # accuracy and confusion matrix for this iterations of training/testing\n",
    "    acc_rfe2 = mt.accuracy_score(y_test,y_hat_rfe2)\n",
    "    conf_rfe2 = mt.confusion_matrix(y_test,y_hat_rfe2)\n",
    "    print(\"====Iteration\",iter_num,\" ====\")\n",
    "    print(\"accuracy\", acc_rfe2 )\n",
    "    print(\"confusion matrix\\n\",conf_rfe2)\n",
    "    iter_num+=1\n"
   ]
  },
  {
   "cell_type": "code",
   "execution_count": 273,
   "metadata": {},
   "outputs": [
    {
     "name": "stdout",
     "output_type": "stream",
     "text": [
      "The mean accuracy for this model is  0.822202886682\n"
     ]
    }
   ],
   "source": [
    "# Get the mean accuarcy \n",
    "\n",
    "# Load the accuracies\n",
    "accuracies_rfe2 = cross_val_score(rfe2, X, y=y, cv=sss) # this also can help with parallelism\n",
    "\n",
    "# Print out the mean \n",
    "mean_rfe2 = np.mean(accuracies_rfe2)\n",
    "print(\"The mean accuracy for this model is \", mean_rfe2)"
   ]
  },
  {
   "cell_type": "code",
   "execution_count": 255,
   "metadata": {},
   "outputs": [
    {
     "name": "stdout",
     "output_type": "stream",
     "text": [
      "====Iteration 0  ====\n",
      "accuracy 0.843382127137\n",
      "confusion matrix\n",
      " [[6958  473]\n",
      " [1057 1281]]\n",
      "====Iteration 1  ====\n",
      "accuracy 0.848705087522\n",
      "confusion matrix\n",
      " [[6941  490]\n",
      " [ 988 1350]]\n",
      "====Iteration 2  ====\n",
      "accuracy 0.842972668646\n",
      "confusion matrix\n",
      " [[6901  530]\n",
      " [1004 1334]]\n",
      "====Iteration 3  ====\n",
      "accuracy 0.839901729962\n",
      "confusion matrix\n",
      " [[6911  520]\n",
      " [1044 1294]]\n",
      "====Iteration 4  ====\n",
      "accuracy 0.845634148838\n",
      "confusion matrix\n",
      " [[6928  503]\n",
      " [1005 1333]]\n",
      "====Iteration 5  ====\n",
      "accuracy 0.848193264408\n",
      "confusion matrix\n",
      " [[6982  449]\n",
      " [1034 1304]]\n",
      "====Iteration 6  ====\n",
      "accuracy 0.844405773365\n",
      "confusion matrix\n",
      " [[6892  539]\n",
      " [ 981 1357]]\n",
      "====Iteration 7  ====\n",
      "accuracy 0.839697000717\n",
      "confusion matrix\n",
      " [[6897  534]\n",
      " [1032 1306]]\n",
      "====Iteration 8  ====\n",
      "accuracy 0.846248336575\n",
      "confusion matrix\n",
      " [[6947  484]\n",
      " [1018 1320]]\n",
      "====Iteration 9  ====\n",
      "accuracy 0.84901218139\n",
      "confusion matrix\n",
      " [[6973  458]\n",
      " [1017 1321]]\n"
     ]
    }
   ],
   "source": [
    "# RFE model #3\n",
    "\n",
    "iter_num=0\n",
    "# the indices are the rows used for training and testing in each iteration\n",
    "for train_indices, test_indices in sss.split(X,y): \n",
    "    X_train = X[train_indices]  # train indices for X\n",
    "    y_train = y[train_indices]  # train indices for y\n",
    "    \n",
    "    X_test = X[test_indices]    # test indices for X\n",
    "    y_test = y[test_indices]    # test indices for y\n",
    "    \n",
    "    # train the reusable logisitc regression model on the training data\n",
    "    rfe3.fit(X_train,y_train)  # train object\n",
    "    y_hat_rfe3 = rfe3.predict(X_test) # get test set precitions\n",
    "\n",
    "    # accuracy and confusion matrix for this iterations of training/testing\n",
    "    acc_rfe3 = mt.accuracy_score(y_test,y_hat_rfe3)\n",
    "    conf_rfe3 = mt.confusion_matrix(y_test,y_hat_rfe3)\n",
    "    print(\"====Iteration\",iter_num,\" ====\")\n",
    "    print(\"accuracy\", acc_rfe3 )\n",
    "    print(\"confusion matrix\\n\",conf_rfe3)\n",
    "    iter_num+=1\n"
   ]
  },
  {
   "cell_type": "code",
   "execution_count": 256,
   "metadata": {},
   "outputs": [
    {
     "name": "stdout",
     "output_type": "stream",
     "text": [
      "The mean accuracy for this model is  0.844815231856\n"
     ]
    }
   ],
   "source": [
    "# Get the mean accuarcy \n",
    "from sklearn.model_selection import cross_val_score\n",
    "\n",
    "# Load the accuracies\n",
    "accuracies_rfe3 = cross_val_score(rfe3, X, y=y, cv=sss) # this also can help with parallelism\n",
    "\n",
    "# Print out the mean \n",
    "mean_rfe3 = np.mean(accuracies_rfe3)\n",
    "print(\"The mean accuracy for this model is \", mean_rfe3)"
   ]
  },
  {
   "cell_type": "code",
   "execution_count": 212,
   "metadata": {},
   "outputs": [
    {
     "name": "stdout",
     "output_type": "stream",
     "text": [
      "====Iteration 0  ====\n",
      "accuracy 0.843382127137\n",
      "confusion matrix\n",
      " [[6958  473]\n",
      " [1057 1281]]\n",
      "====Iteration 1  ====\n",
      "accuracy 0.848705087522\n",
      "confusion matrix\n",
      " [[6941  490]\n",
      " [ 988 1350]]\n",
      "====Iteration 2  ====\n",
      "accuracy 0.842972668646\n",
      "confusion matrix\n",
      " [[6901  530]\n",
      " [1004 1334]]\n",
      "====Iteration 3  ====\n",
      "accuracy 0.839901729962\n",
      "confusion matrix\n",
      " [[6911  520]\n",
      " [1044 1294]]\n",
      "====Iteration 4  ====\n",
      "accuracy 0.845634148838\n",
      "confusion matrix\n",
      " [[6928  503]\n",
      " [1005 1333]]\n",
      "====Iteration 5  ====\n",
      "accuracy 0.848193264408\n",
      "confusion matrix\n",
      " [[6982  449]\n",
      " [1034 1304]]\n",
      "====Iteration 6  ====\n",
      "accuracy 0.844405773365\n",
      "confusion matrix\n",
      " [[6892  539]\n",
      " [ 981 1357]]\n",
      "====Iteration 7  ====\n",
      "accuracy 0.839697000717\n",
      "confusion matrix\n",
      " [[6897  534]\n",
      " [1032 1306]]\n",
      "====Iteration 8  ====\n",
      "accuracy 0.846248336575\n",
      "confusion matrix\n",
      " [[6947  484]\n",
      " [1018 1320]]\n",
      "====Iteration 9  ====\n",
      "accuracy 0.84901218139\n",
      "confusion matrix\n",
      " [[6973  458]\n",
      " [1017 1321]]\n"
     ]
    }
   ],
   "source": [
    "# LR model #1\n",
    "lr_clf = LogisticRegression(penalty='l2', C=1.0) # get object\n",
    "\n",
    "iter_num=0\n",
    "# the indices are the rows used for training and testing in each iteration\n",
    "for train_indices, test_indices in sss.split(X,y): \n",
    "    X_train = X[train_indices]  # train indices for X\n",
    "    y_train = y[train_indices]  # train indices for y\n",
    "    \n",
    "    X_test = X[test_indices]    # test indices for X\n",
    "    y_test = y[test_indices]    # test indices for y\n",
    "    \n",
    "    # train the reusable logisitc regression model on the training data\n",
    "    lr_clf.fit(X_train,y_train)  # train object\n",
    "    y_hat = lr_clf.predict(X_test) # get test set precitions\n",
    "\n",
    "    # accuracy and confusion matrix for this iterations of training/testing\n",
    "    acc = mt.accuracy_score(y_test,y_hat)\n",
    "    conf = mt.confusion_matrix(y_test,y_hat)\n",
    "    print(\"====Iteration\",iter_num,\" ====\")\n",
    "    print(\"accuracy\", acc )\n",
    "    print(\"confusion matrix\\n\",conf)\n",
    "    iter_num+=1\n"
   ]
  },
  {
   "cell_type": "code",
   "execution_count": 213,
   "metadata": {},
   "outputs": [
    {
     "name": "stdout",
     "output_type": "stream",
     "text": [
      "The mean accuracy for this model is  0.844815231856\n"
     ]
    }
   ],
   "source": [
    "# Get the mean accuracy\n",
    "\n",
    "# Load the accuracies\n",
    "accuracies_lr_clf = cross_val_score(lr_clf, X, y=y, cv=sss) # this also can help with parallelism\n",
    "\n",
    "# Print out the mean \n",
    "mean_lr_clf = np.mean(accuracies_lr_clf)\n",
    "print(\"The mean accuracy for this model is \", mean_lr_clf)"
   ]
  },
  {
   "cell_type": "code",
   "execution_count": 214,
   "metadata": {},
   "outputs": [
    {
     "name": "stdout",
     "output_type": "stream",
     "text": [
      "====Iteration 0  ====\n",
      "accuracy 0.844815231856\n",
      "confusion matrix\n",
      " [[6948  483]\n",
      " [1033 1305]]\n",
      "====Iteration 1  ====\n",
      "accuracy 0.848705087522\n",
      "confusion matrix\n",
      " [[6935  496]\n",
      " [ 982 1356]]\n",
      "====Iteration 2  ====\n",
      "accuracy 0.843075033269\n",
      "confusion matrix\n",
      " [[6897  534]\n",
      " [ 999 1339]]\n",
      "====Iteration 3  ====\n",
      "accuracy 0.839799365339\n",
      "confusion matrix\n",
      " [[6884  547]\n",
      " [1018 1320]]\n",
      "====Iteration 4  ====\n",
      "accuracy 0.846350701198\n",
      "confusion matrix\n",
      " [[6929  502]\n",
      " [ 999 1339]]\n",
      "====Iteration 5  ====\n",
      "accuracy 0.848602722899\n",
      "confusion matrix\n",
      " [[6961  470]\n",
      " [1009 1329]]\n",
      "====Iteration 6  ====\n",
      "accuracy 0.845122325724\n",
      "confusion matrix\n",
      " [[6900  531]\n",
      " [ 982 1356]]\n",
      "====Iteration 7  ====\n",
      "accuracy 0.840004094585\n",
      "confusion matrix\n",
      " [[6885  546]\n",
      " [1017 1321]]\n",
      "====Iteration 8  ====\n",
      "accuracy 0.846555430443\n",
      "confusion matrix\n",
      " [[6925  506]\n",
      " [ 993 1345]]\n",
      "====Iteration 9  ====\n",
      "accuracy 0.848807452145\n",
      "confusion matrix\n",
      " [[6965  466]\n",
      " [1011 1327]]\n"
     ]
    }
   ],
   "source": [
    "# LR model #2\n",
    "lr_clf2 = LogisticRegression(penalty='l1', C=1.0) # get object\n",
    "\n",
    "iter_num=0\n",
    "# the indices are the rows used for training and testing in each iteration\n",
    "for train_indices2, test_indices2 in sss.split(X,y): \n",
    "    X_train2 = X[train_indices2]  # train indices for X\n",
    "    y_train2 = y[train_indices2]  # train indices for y\n",
    "    \n",
    "    X_test2 = X[test_indices2]    # test indices for X\n",
    "    y_test2 = y[test_indices2]    # test indices for y\n",
    "    \n",
    "    # train the reusable logisitc regression model on the training data\n",
    "    lr_clf2.fit(X_train2,y_train2)  # train object\n",
    "    y_hat2 = lr_clf2.predict(X_test2) # get test set precitions\n",
    "\n",
    "    # accuracy and confusion matrix for this iterations of training/testing\n",
    "    acc2 = mt.accuracy_score(y_test2,y_hat2)\n",
    "    conf2 = mt.confusion_matrix(y_test2,y_hat2)\n",
    "    print(\"====Iteration\",iter_num,\" ====\")\n",
    "    print(\"accuracy\", acc2 )\n",
    "    print(\"confusion matrix\\n\",conf2)\n",
    "    iter_num+=1\n"
   ]
  },
  {
   "cell_type": "code",
   "execution_count": 215,
   "metadata": {},
   "outputs": [
    {
     "name": "stdout",
     "output_type": "stream",
     "text": [
      "The mean accuracy for this model is  0.845163271573\n"
     ]
    }
   ],
   "source": [
    "# Get the mean accuracy\n",
    "\n",
    "# Load the accuracies\n",
    "accuracies_lr_clf2 = cross_val_score(lr_clf2, X, y=y, cv=sss) # this also can help with parallelism\n",
    "\n",
    "# Print out the mean \n",
    "mean_lr_clf2 = np.mean(accuracies_lr_clf2)\n",
    "print(\"The mean accuracy for this model is \", mean_lr_clf2)"
   ]
  },
  {
   "cell_type": "code",
   "execution_count": 216,
   "metadata": {},
   "outputs": [
    {
     "name": "stdout",
     "output_type": "stream",
     "text": [
      "====Iteration 0  ====\n",
      "accuracy 0.79977479783\n",
      "confusion matrix\n",
      " [[5824 1607]\n",
      " [ 349 1989]]\n",
      "====Iteration 1  ====\n",
      "accuracy 0.799467703962\n",
      "confusion matrix\n",
      " [[5809 1622]\n",
      " [ 337 2001]]\n",
      "====Iteration 2  ====\n",
      "accuracy 0.792711638858\n",
      "confusion matrix\n",
      " [[5777 1654]\n",
      " [ 371 1967]]\n",
      "====Iteration 3  ====\n",
      "accuracy 0.797010953015\n",
      "confusion matrix\n",
      " [[5782 1649]\n",
      " [ 334 2004]]\n",
      "====Iteration 4  ====\n",
      "accuracy 0.800184256321\n",
      "confusion matrix\n",
      " [[5836 1595]\n",
      " [ 357 1981]]\n",
      "====Iteration 5  ====\n",
      "accuracy 0.806326133688\n",
      "confusion matrix\n",
      " [[5852 1579]\n",
      " [ 313 2025]]\n",
      "====Iteration 6  ====\n",
      "accuracy 0.795884942164\n",
      "confusion matrix\n",
      " [[5781 1650]\n",
      " [ 344 1994]]\n",
      "====Iteration 7  ====\n",
      "accuracy 0.796396765278\n",
      "confusion matrix\n",
      " [[5793 1638]\n",
      " [ 351 1987]]\n",
      "====Iteration 8  ====\n",
      "accuracy 0.794861295936\n",
      "confusion matrix\n",
      " [[5766 1665]\n",
      " [ 339 1999]]\n",
      "====Iteration 9  ====\n",
      "accuracy 0.800593714812\n",
      "confusion matrix\n",
      " [[5824 1607]\n",
      " [ 341 1997]]\n"
     ]
    }
   ],
   "source": [
    "# LR model #3\n",
    "lr_clf3 = LogisticRegression(penalty='l1', C=1.0, class_weight='balanced') # get object\n",
    "\n",
    "iter_num=0\n",
    "# the indices are the rows used for training and testing in each iteration\n",
    "for train_indices3, test_indices3 in sss.split(X,y): \n",
    "    X_train3 = X[train_indices3]  # train indices for X\n",
    "    y_train3 = y[train_indices3]  # train indices for y\n",
    "    \n",
    "    X_test3 = X[test_indices3]    # test indices for X\n",
    "    y_test3 = y[test_indices3]    # test indices for y\n",
    "    \n",
    "    # train the reusable logisitc regression model on the training data\n",
    "    lr_clf3.fit(X_train3,y_train3)  # train object\n",
    "    y_hat3 = lr_clf3.predict(X_test3) # get test set precitions\n",
    "\n",
    "    # accuracy and confusion matrix for this iterations of training/testing\n",
    "    acc3 = mt.accuracy_score(y_test3,y_hat3)\n",
    "    conf3 = mt.confusion_matrix(y_test3,y_hat3)\n",
    "    print(\"====Iteration\",iter_num,\" ====\")\n",
    "    print(\"accuracy\", acc3 )\n",
    "    print(\"confusion matrix\\n\",conf3)\n",
    "    iter_num+=1\n"
   ]
  },
  {
   "cell_type": "code",
   "execution_count": 217,
   "metadata": {},
   "outputs": [
    {
     "name": "stdout",
     "output_type": "stream",
     "text": [
      "The mean accuracy for this model is  0.798454294196\n"
     ]
    }
   ],
   "source": [
    "# Get the mean accuracy\n",
    "\n",
    "# Load the accuracies\n",
    "accuracies_lr_clf3 = cross_val_score(lr_clf3, X, y=y, cv=sss) # this also can help with parallelism\n",
    "\n",
    "# Print out the mean \n",
    "mean_lr_clf3 = np.mean(accuracies_lr_clf3)\n",
    "print(\"The mean accuracy for this model is \", mean_lr_clf3)"
   ]
  },
  {
   "cell_type": "code",
   "execution_count": 218,
   "metadata": {},
   "outputs": [
    {
     "name": "stdout",
     "output_type": "stream",
     "text": [
      "====Iteration 0  ====\n",
      "accuracy 0.80161736104\n",
      "confusion matrix\n",
      " [[5842 1589]\n",
      " [ 349 1989]]\n",
      "====Iteration 1  ====\n",
      "accuracy 0.794554202068\n",
      "confusion matrix\n",
      " [[5744 1687]\n",
      " [ 320 2018]]\n",
      "====Iteration 2  ====\n",
      "accuracy 0.789743064797\n",
      "confusion matrix\n",
      " [[5748 1683]\n",
      " [ 371 1967]]\n",
      "====Iteration 3  ====\n",
      "accuracy 0.797318046883\n",
      "confusion matrix\n",
      " [[5797 1634]\n",
      " [ 346 1992]]\n",
      "====Iteration 4  ====\n",
      "accuracy 0.792302180366\n",
      "confusion matrix\n",
      " [[5738 1693]\n",
      " [ 336 2002]]\n",
      "====Iteration 5  ====\n",
      "accuracy 0.8023339134\n",
      "confusion matrix\n",
      " [[5817 1614]\n",
      " [ 317 2021]]\n",
      "====Iteration 6  ====\n",
      "accuracy 0.785136656771\n",
      "confusion matrix\n",
      " [[5657 1774]\n",
      " [ 325 2013]]\n",
      "====Iteration 7  ====\n",
      "accuracy 0.794554202068\n",
      "confusion matrix\n",
      " [[5782 1649]\n",
      " [ 358 1980]]\n",
      "====Iteration 8  ====\n",
      "accuracy 0.794758931313\n",
      "confusion matrix\n",
      " [[5765 1666]\n",
      " [ 339 1999]]\n",
      "====Iteration 9  ====\n",
      "accuracy 0.800081891698\n",
      "confusion matrix\n",
      " [[5824 1607]\n",
      " [ 346 1992]]\n"
     ]
    }
   ],
   "source": [
    "# LR model #4\n",
    "lr_clf4 = LogisticRegression(penalty='l2', C=1.0, class_weight='balanced') # get object\n",
    "\n",
    "iter_num=0\n",
    "# the indices are the rows used for training and testing in each iteration\n",
    "for train_indices4, test_indices4 in sss.split(X,y): \n",
    "    X_train4 = X[train_indices4]  # train indices for X\n",
    "    y_train4 = y[train_indices4]  # train indices for y\n",
    "    \n",
    "    X_test4 = X[test_indices4]    # test indices for X\n",
    "    y_test4 = y[test_indices4]    # test indices for y\n",
    "    \n",
    "    # train the reusable logisitc regression model on the training data\n",
    "    lr_clf4.fit(X_train4,y_train4)  # train object\n",
    "    y_hat4 = lr_clf4.predict(X_test4) # get test set precitions\n",
    "\n",
    "    # accuracy and confusion matrix for this iterations of training/testing\n",
    "    acc4 = mt.accuracy_score(y_test4,y_hat4)\n",
    "    conf4 = mt.confusion_matrix(y_test4,y_hat4)\n",
    "    print(\"====Iteration\",iter_num,\" ====\")\n",
    "    print(\"accuracy\", acc4 )\n",
    "    print(\"confusion matrix\\n\",conf4)\n",
    "    iter_num+=1"
   ]
  },
  {
   "cell_type": "code",
   "execution_count": 219,
   "metadata": {},
   "outputs": [
    {
     "name": "stdout",
     "output_type": "stream",
     "text": [
      "The mean accuracy for this model is  0.79524004504\n"
     ]
    }
   ],
   "source": [
    "# Get the mean accuracy\n",
    "\n",
    "# Load the accuracies\n",
    "accuracies_lr_clf4 = cross_val_score(lr_clf4, X, y=y, cv=sss) # this also can help with parallelism\n",
    "\n",
    "# Print out the mean \n",
    "mean_lr_clf4 = np.mean(accuracies_lr_clf4)\n",
    "print(\"The mean accuracy for this model is \", mean_lr_clf4)"
   ]
  },
  {
   "cell_type": "code",
   "execution_count": 274,
   "metadata": {},
   "outputs": [
    {
     "name": "stdout",
     "output_type": "stream",
     "text": [
      "The mean accuracy for RFE model 1 is  0.820923328898\n",
      "------------------------------------------------------------------------\n",
      "The mean accuracy for RFE model 2 is  0.822202886682\n",
      "------------------------------------------------------------------------\n",
      "The mean accuracy for RFE model 3 is  0.844815231856\n",
      "------------------------------------------------------------------------\n",
      "The mean accuracy for Logistic Regression 1 is  0.844815231856\n",
      "------------------------------------------------------------------------\n",
      "The mean accuracy for Logistic Regression 2 is  0.845163271573\n",
      "------------------------------------------------------------------------\n",
      "The mean accuracy for Logistic Regression 3 is  0.798454294196\n",
      "------------------------------------------------------------------------\n",
      "The mean accuracy for Logistic Regression 4  0.79524004504\n",
      "------------------------------------------------------------------------\n",
      "----- Logistic Regression model #2 has the highest accuary, 84.47% -----\n"
     ]
    }
   ],
   "source": [
    "# Accuracies for comparision for each RFE model and LR model\n",
    "\n",
    "# LR models that incorporate feature selection \n",
    "\n",
    "# RFE model 1\n",
    "# Set to pick 3 features \n",
    "print(\"The mean accuracy for RFE model 1 is \", mean_rfe)\n",
    "print('------------------------------------------------------------------------')\n",
    "\n",
    "# RFE model 2\n",
    "# Set to pick 5 features \n",
    "print(\"The mean accuracy for RFE model 2 is \", mean_rfe2)\n",
    "print('------------------------------------------------------------------------')\n",
    "\n",
    "# RFE model 3\n",
    "# Set to pick 10 features \n",
    "print(\"The mean accuracy for RFE model 3 is \", mean_rfe3)\n",
    "print('------------------------------------------------------------------------')\n",
    "\n",
    "# LR models with all 11 features\n",
    "\n",
    "# Model 1\n",
    "print(\"The mean accuracy for Logistic Regression 1 is \", mean_lr_clf)\n",
    "print('------------------------------------------------------------------------')\n",
    "\n",
    "# Model 2\n",
    "print(\"The mean accuracy for Logistic Regression 2 is \", mean_lr_clf2)\n",
    "print('------------------------------------------------------------------------')\n",
    "\n",
    "# Model 3\n",
    "print(\"The mean accuracy for Logistic Regression 3 is \", mean_lr_clf3)\n",
    "print('------------------------------------------------------------------------')\n",
    "\n",
    "# Model 4\n",
    "print(\"The mean accuracy for Logistic Regression 4 \", mean_lr_clf4)\n",
    "print('------------------------------------------------------------------------')\n",
    "\n",
    "print('----- Logistic Regression model #2 has the highest accuary, 84.47% -----')"
   ]
  },
  {
   "cell_type": "markdown",
   "metadata": {},
   "source": [
    "As the number of features increased in RFE 1 to RFE 3 we notice a substantial increase in accuracy. This assists us in theorizing that a larger number of features, like the 50 included in RFE 3, will assist us in predicting. Our most accurate logistic regression model builds off of this and uses all 11 variables deemed powerful from our analysis in Lab 1. Next, we will interpret the weights of this model. \n",
    "\n",
    "### Interperting the Weights\n",
    "\n",
    "Very large attribute values could just as easily be assigned a higher weight. Therefore, we normalize the feature values so that all the attributes are on the same dynamic range. Once the attributes are normalized, the weights should have magnitudes that reflect their predictive power in the logistic regression model.\n",
    "\n",
    "### Important Variables\n",
    "\n",
    "The graph below highlights the importance of the *relationship* variable within our predictive models. Its relative weight is what makes it more important than the other variables. Because our data was collected in 1994, we expect that this is due to the gender gap in income, which is still prominent today. The *relationship* variable details the relationship an individual has to the head of the household in 1994. With traditional gender roles being more regularly followed in 1994, \"wife\", a category of *relationship*, is strongly associated with lower incomes. In observations like these, *relationship* provides large increases in accuracy. "
   ]
  },
  {
   "cell_type": "code",
   "execution_count": 294,
   "metadata": {},
   "outputs": [
    {
     "name": "stdout",
     "output_type": "stream",
     "text": [
      "accuracy: 0.846145971952\n",
      "[[6924  485]\n",
      " [1018 1342]]\n",
      "condensed_education has weight of -0.358069495113\n",
      "hours_per_week has weight of -0.0702247702895\n",
      "condensed_workclass has weight of -0.0565718450633\n",
      "continent has weight of -0.0536676243386\n",
      "capital_loss has weight of 0.0\n",
      "race has weight of 0.268863957684\n",
      "age has weight of 0.330655583514\n",
      "sex has weight of 0.363472598342\n",
      "capital_gain has weight of 0.407422650407\n",
      "condensed_marital has weight of 0.410627277729\n",
      "relationship has weight of 2.30253633398\n"
     ]
    }
   ],
   "source": [
    "# Import data \n",
    "df = pd.read_csv('../data/master.csv')\n",
    "\n",
    "# Delete unwanted variables\n",
    "del df['workclass']\n",
    "del df['education']\n",
    "del df['education_num']\n",
    "del df['marital_status']\n",
    "del df['occupation']\n",
    "del df['native_country'] \n",
    "del df['Unnamed: 0']\n",
    "\n",
    "if 'income_binary' in df:\n",
    "    y = df['income_binary'].values #get values we need \n",
    "    del df['income_binary']        #get rid of the class label\n",
    "    X = df            #use everything else to predict \n",
    "    \n",
    "X = pd.get_dummies(df)\n",
    "\n",
    "from sklearn.model_selection import StratifiedKFold, train_test_split\n",
    "x_train, x_test, y_train, y_test = train_test_split(\n",
    "    X, y, test_size=0.20, random_state=111)\n",
    "\n",
    "# we want to normalize the features based upon the mean and standard deviation of each column\n",
    "\n",
    "# scale attributes by the training set\n",
    "scl_obj = StandardScaler()\n",
    "scl_obj.fit(x_train) # find scalings for each column that make this zero mean and unit std\n",
    "\n",
    "X_train_scaled = scl_obj.transform(x_train) # apply to training\n",
    "X_test_scaled = scl_obj.transform(x_test) # apply those means and std to the test set (without snooping at the test set values)\n",
    "\n",
    "# train the model \n",
    "lr_clf2 = LogisticRegression(penalty='l1', C=1.0) # get object\n",
    "lr_clf2.fit(X_train_scaled,y_train)  # train object\n",
    "\n",
    "y_hat2 = lr_clf2.predict(X_test_scaled) # get test set precitions\n",
    "\n",
    "acc2 = mt.accuracy_score(y_test,y_hat2)\n",
    "conf2 = mt.confusion_matrix(y_test,y_hat2)\n",
    "print('accuracy:', acc2 )\n",
    "print(conf2 )\n",
    "\n",
    "# sort these attributes and spit them out\n",
    "zip_vars = zip(lr_clf2.coef_.T,df.columns) # combine attributes\n",
    "zip_vars = sorted(zip_vars)\n",
    "zz = {}\n",
    "for coef, name in zip_vars:\n",
    "    print(name, 'has weight of', coef[0])\n",
    "    zz[name] = coef[0]\n",
    "\n",
    "\n",
    "    \n",
    "# now let's make a pandas Series with the names and values, and plot them\n",
    "plt.style.use('ggplot')\n",
    "\n",
    "\n",
    "weights = pd.DataFrame(zz,index=X.columns)"
   ]
  },
  {
   "cell_type": "code",
   "execution_count": 299,
   "metadata": {},
   "outputs": [
    {
     "data": {
      "text/plain": [
       "<matplotlib.axes._subplots.AxesSubplot at 0x11eda3320>"
      ]
     },
     "execution_count": 299,
     "metadata": {},
     "output_type": "execute_result"
    },
    {
     "data": {
      "image/png": "[encoded data removed]",
      "text/plain": [
       "<matplotlib.figure.Figure at 0x11be79b38>"
      ]
     },
     "metadata": {},
     "output_type": "display_data"
    }
   ],
   "source": [
    "ax = weights.ix[1].plot(kind='bar')"
   ]
  },
  {
   "cell_type": "markdown",
   "metadata": {},
   "source": [
    "## Support Vector Machine"
   ]
  },
  {
   "cell_type": "markdown",
   "metadata": {},
   "source": [
    "In this section, we explore the use of SciKit's Support Vector Machine functions to predict the *income_binary* variable in our dataset. We compare the accuracy and training time for the SVC, LinearSVC and NuSVC algorithms.\n",
    " \n",
    "LinearSVC is a linear support vector machine, while SVC and NuSVC are non-linear solutions with multiple kernel options. Along with the algorithms themselves, we also explored how tuning the parameters and the variables changed model accuracy, ultimately settling on the model that left us with the most accurate model trained in a reasonable amount of time. This was the standard SVC model using the default kernel 'rbf', default parameters, and reduced number of variables.\n",
    " \n",
    "#### LinearSVC\n",
    " \n",
    "In terms of training time, this algorithm is more efficient than the other SciKit SVM algorithms. While SVC and NuSVC offer increased accuracy, with algorithmic complexity greater than quadratic for *N* number of samples, training time for these two can be upwards of 3-4 hours on a faster-than-average personal machine. \n",
    " \n",
    "Our most accurate LinearSVC model has an accuracy of 83.6% using 0.8 as a penalty weight. It trains in less than a minute with a reduced number of variables. This model was highly inaccurate at around 50% when no variables were removed.\n",
    " \n",
    "#### SVC\n",
    " \n",
    "This model has an accuracy of 86.6% and was our most accurate SVM. Training time was around 5 minutes with a paired down number of variables and much higher when variables were not paired. The 'sigmoid' kernel was the fastest by a large margin, but did not provide the highest accuracy. Before pairing down the variables, both 'sigmoid' and 'rfd' kernels were predicting around 76%. \n",
    " \n",
    "#### NuSVC\n",
    " \n",
    "Per SciKit's documentation, NuSVC is similar to SVC, but uses a 'nu' parameter which limits \"an upper bound on the fraction of training errors and a lower bound of the fraction of support vectors.\" To arrive at this solution, model training time can take hours, depending on the dataset's size. While we trained an instance of this algorithm below, its training time and minimal increase in accuracy ranks it below SVC in our book.\n",
    " \n",
    "Our most accurate NusVC scored 86.6%, equal to our SVC."
   ]
  },
  {
   "cell_type": "code",
   "execution_count": 300,
   "metadata": {
    "collapsed": true
   },
   "outputs": [],
   "source": [
    "#data import\n",
    "import pandas as pd\n",
    "import numpy as np\n",
    "\n",
    "df = pd.read_csv('../data/master.csv')\n",
    "\n",
    "\n",
    "to_drop = ['Unnamed: 0','workclass','education','education_num',\n",
    "           'marital_status', 'native_country']\n",
    "\n",
    "df = df.drop(to_drop, 1)"
   ]
  },
  {
   "cell_type": "code",
   "execution_count": 301,
   "metadata": {
    "collapsed": true
   },
   "outputs": [],
   "source": [
    "x = pd.get_dummies(df.drop('income_binary',1))\n",
    "y = df.income_binary.values"
   ]
  },
  {
   "cell_type": "code",
   "execution_count": 302,
   "metadata": {
    "collapsed": true
   },
   "outputs": [],
   "source": [
    "from sklearn.model_selection import StratifiedKFold, train_test_split\n",
    "x_train, x_test, y_train, y_test = train_test_split(\n",
    "    x, y, test_size=0.20, random_state=45)"
   ]
  },
  {
   "cell_type": "code",
   "execution_count": 303,
   "metadata": {
    "collapsed": true
   },
   "outputs": [],
   "source": [
    "from sklearn import metrics as mt\n",
    "from sklearn import decomposition\n",
    "from sklearn.pipeline import Pipeline\n",
    "from sklearn.preprocessing import LabelEncoder, StandardScaler\n",
    "from sklearn.svm import SVC, LinearSVC, NuSVC"
   ]
  },
  {
   "cell_type": "markdown",
   "metadata": {},
   "source": [
    "### Linear SVC, SVC, and NuSVC\n",
    "\n",
    "We calculate different variations of Support Vector Machines below, exploring accuracy and training time."
   ]
  },
  {
   "cell_type": "code",
   "execution_count": 304,
   "metadata": {
    "collapsed": true
   },
   "outputs": [],
   "source": [
    "#this will run a for loop trying the Linear kernel at different penalty rates\n",
    "#we can do this because the linear kernel isnt computationaly intensive at the # of variables\n",
    "#we have kept in\n",
    "penalty_rates = {}\n",
    "\n",
    "for penalty in [0.1,0.2,0.3,0.4,0.5,0.6,0.7,0.8,0.9,1.0]:\n",
    "    svm = LinearSVC(C=penalty)\n",
    "    svm.fit(x_train,y_train)\n",
    "    y_hat = svm.predict(x_test)\n",
    "    \n",
    "    accuracy = mt.accuracy_score(y_test,y_hat)\n",
    "    \n",
    "    penalty_rates[penalty] = accuracy\n",
    "\n",
    "#save it in a DF for later\n",
    "penalty_rates= pd.DataFrame(penalty_rates,index=['Accuracy']).transpose()"
   ]
  },
  {
   "cell_type": "code",
   "execution_count": 305,
   "metadata": {},
   "outputs": [
    {
     "data": {
      "text/plain": [
       "<matplotlib.text.Text at 0x11d0972e8>"
      ]
     },
     "execution_count": 305,
     "metadata": {},
     "output_type": "execute_result"
    },
    {
     "data": {
      "image/png": "[encoded data removed]",
      "text/plain": [
       "<matplotlib.figure.Figure at 0x11d00a7b8>"
      ]
     },
     "metadata": {},
     "output_type": "display_data"
    }
   ],
   "source": [
    "import seaborn as sns\n",
    "import matplotlib.pyplot as plt\n",
    "\n",
    "%matplotlib inline\n",
    "\n",
    "#establish our plot and labels\n",
    "ax = penalty_rates.sort_values('Accuracy').plot(kind='bar',title='Accuracy Rates of Linear Kernel')\n",
    "\n",
    "ax.set_xlabel('Penalty Rate')\n",
    "ax.set_ylabel('Accuracy')"
   ]
  },
  {
   "cell_type": "code",
   "execution_count": 308,
   "metadata": {
    "scrolled": false
   },
   "outputs": [
    {
     "name": "stdout",
     "output_type": "stream",
     "text": [
      "Accuracy :  0.83652369741 \n",
      "\n",
      "Confusion Matrix : \n",
      "\n",
      " [[7110  354]\n",
      " [1243 1062]] \n",
      "\n",
      "Intercept :  [-0.7110669] \n",
      "\n",
      "Coefficients : \n",
      "\n",
      "condensed_education_No High School Diploma        -0.652308\n",
      "condensed_workclass_Uknown/Other                  -0.463698\n",
      "sex_ Female                                       -0.459404\n",
      "occupation_ Farming-fishing                       -0.442533\n",
      "relationship_ Own-child                           -0.352404\n",
      "relationship_ Unmarried                           -0.335480\n",
      "condensed_education_High School Graduate          -0.332010\n",
      "condensed_marital_Never                           -0.329677\n",
      "occupation_ Other-service                         -0.314464\n",
      "relationship_ Not-in-family                       -0.305708\n",
      "occupation_ Priv-house-serv                       -0.305023\n",
      "occupation_ Handlers-cleaners                     -0.286080\n",
      "relationship_ Other-relative                      -0.268601\n",
      "sex_ Male                                         -0.251662\n",
      "race_ Amer-Indian-Eskimo                          -0.244987\n",
      "continent_Latin America                           -0.238775\n",
      "continent_US Territories                          -0.236404\n",
      "occupation_ Machine-op-inspct                     -0.220550\n",
      "continent_Mexico                                  -0.210620\n",
      "condensed_education_Some College                  -0.203604\n",
      "condensed_marital_Divorced/Separated              -0.194336\n",
      "race_ Other                                       -0.193272\n",
      "condensed_marital_Widowed                         -0.182161\n",
      "condensed_workclass_Self-Employed                 -0.144151\n",
      "race_ Black                                       -0.143362\n",
      "condensed_education_Associates                    -0.141216\n",
      "occupation_ Transport-moving                      -0.134041\n",
      "continent_Caribbean                               -0.084282\n",
      "occupation_ Craft-repair                          -0.081364\n",
      "race_ White                                       -0.078623\n",
      "continent_Asia                                    -0.072081\n",
      "condensed_workclass_Government                    -0.068860\n",
      "continent_Unknown                                 -0.058821\n",
      "race_ Asian-Pac-Islander                          -0.050821\n",
      "condensed_workclass_Private                       -0.034358\n",
      "condensed_marital_Married                         -0.004893\n",
      "capital_loss                                      -0.000142\n",
      "capital_gain                                       0.000130\n",
      "occupation_ Adm-clerical                           0.006427\n",
      "continent_United States                            0.007303\n",
      "age                                                0.008162\n",
      "hours_per_week                                     0.012972\n",
      "occupation_ Sales                                  0.020612\n",
      "continent_Europe                                   0.030494\n",
      "condensed_education_Bachelors                      0.062127\n",
      "relationship_ Husband                              0.092828\n",
      "occupation_ Protective-serv                        0.094082\n",
      "occupation_ Tech-support                           0.119022\n",
      "occupation_Unknown                                 0.134473\n",
      "continent_Canada                                   0.152121\n",
      "occupation_ Prof-specialty                         0.155953\n",
      "condensed_education_Masters/Professional School    0.201320\n",
      "occupation_ Exec-managerial                        0.203459\n",
      "occupation_ Armed-Forces                           0.338960\n",
      "condensed_education_Doctorate                      0.354624\n",
      "relationship_ Wife                                 0.458298\n",
      "dtype: float64\n"
     ]
    }
   ],
   "source": [
    "# train the selected svm (linear @ 0.8 penalty)\n",
    "svm_s = LinearSVC(C=0.7)\n",
    "svm_s.fit(x_train,y_train)\n",
    "\n",
    "#accuracy on out of sample data\n",
    "y_hat = svm_s.predict(x_test)\n",
    "accuracy = mt.accuracy_score(y_test,y_hat)\n",
    "print('Accuracy : ', accuracy, '\\n')\n",
    "\n",
    "\n",
    "print('Confusion Matrix : \\n\\n', mt.confusion_matrix(y_test,y_hat),'\\n')\n",
    "\n",
    "#number of support vectors for each class\n",
    "print('Intercept : ', svm_s.intercept_, '\\n')\n",
    "\n",
    "#coefficents of \"support vectors\" (its linear so closer to a linear model)\n",
    "print('Coefficients : \\n')\n",
    "print(pd.Series(svm_s.coef_[0],index = x_train.columns).sort_values())\n",
    "\n"
   ]
  },
  {
   "cell_type": "code",
   "execution_count": 309,
   "metadata": {},
   "outputs": [
    {
     "name": "stdout",
     "output_type": "stream",
     "text": [
      "0.866516531887\n"
     ]
    }
   ],
   "source": [
    "svc = SVC()\n",
    "svc.fit(x_train,y_train)\n",
    "y_hat = svc.predict(x_test)\n",
    "\n",
    "accuracy = mt.accuracy_score(y_test,y_hat)\n",
    "print(accuracy)"
   ]
  },
  {
   "cell_type": "code",
   "execution_count": 149,
   "metadata": {},
   "outputs": [
    {
     "name": "stdout",
     "output_type": "stream",
     "text": [
      "(15781, 50)\n",
      "(15781,)\n",
      "[8491 7290]\n"
     ]
    }
   ],
   "source": [
    "# Support vectors\n",
    "print(svc.support_vectors_.shape)\n",
    "print(svc.support_.shape)\n",
    "print(svc.n_support_ )"
   ]
  },
  {
   "cell_type": "code",
   "execution_count": 158,
   "metadata": {},
   "outputs": [
    {
     "data": {
      "text/plain": [
       "array([[ 45.,   0.,   0., ...,   0.,   1.,   0.],\n",
       "       [ 46.,   0.,   0., ...,   1.,   0.,   0.],\n",
       "       [ 35.,   0.,   0., ...,   1.,   0.,   0.],\n",
       "       ..., \n",
       "       [ 40.,   0.,   0., ...,   1.,   0.,   0.],\n",
       "       [ 35.,   0.,   0., ...,   1.,   0.,   0.],\n",
       "       [ 53.,   0.,   0., ...,   0.,   1.,   0.]])"
      ]
     },
     "execution_count": 158,
     "metadata": {},
     "output_type": "execute_result"
    }
   ],
   "source": [
    "svc.support_vectors_\n"
   ]
  },
  {
   "cell_type": "code",
   "execution_count": 138,
   "metadata": {},
   "outputs": [
    {
     "data": {
      "text/plain": [
       "array([8491, 7290], dtype=int32)"
      ]
     },
     "execution_count": 138,
     "metadata": {},
     "output_type": "execute_result"
    }
   ],
   "source": [
    "#number of support vectors for each class\n",
    "svc.n_support_"
   ]
  },
  {
   "cell_type": "code",
   "execution_count": 228,
   "metadata": {},
   "outputs": [
    {
     "data": {
      "text/plain": [
       "15781"
      ]
     },
     "execution_count": 228,
     "metadata": {},
     "output_type": "execute_result"
    }
   ],
   "source": [
    "len(svc.support_)"
   ]
  },
  {
   "cell_type": "code",
   "execution_count": 140,
   "metadata": {},
   "outputs": [
    {
     "data": {
      "text/plain": [
       "15781"
      ]
     },
     "execution_count": 140,
     "metadata": {},
     "output_type": "execute_result"
    }
   ],
   "source": [
    "len(svc.support_vectors_)"
   ]
  },
  {
   "cell_type": "code",
   "execution_count": 141,
   "metadata": {},
   "outputs": [
    {
     "name": "stdout",
     "output_type": "stream",
     "text": [
      "0.866004708773\n"
     ]
    }
   ],
   "source": [
    "nusvc = NuSVC(nu=.3)\n",
    "nusvc.fit(x_train,y_train)\n",
    "y_hat = nusvc.predict(x_test)\n",
    "\n",
    "accuracy = mt.accuracy_score(y_test,y_hat)\n",
    "print(accuracy)"
   ]
  },
  {
   "cell_type": "markdown",
   "metadata": {},
   "source": [
    "### Reviewing Support Vectors\n",
    "\n",
    "Below we retrain a model and review the support vectors it selected. You can see the changes that the support vectors provide in the visualizations. The *age* variable has distinct distributions for each of its categories. "
   ]
  },
  {
   "cell_type": "code",
   "execution_count": 161,
   "metadata": {},
   "outputs": [
    {
     "data": {
      "text/plain": [
       "10"
      ]
     },
     "execution_count": 161,
     "metadata": {},
     "output_type": "execute_result"
    }
   ],
   "source": [
    "from sklearn.model_selection import StratifiedShuffleSplit\n",
    "\n",
    "if 'income_binary' in df:\n",
    "    y = df['income_binary'].values #get values we need \n",
    "    del df['income_binary']        #get rid of the class label\n",
    "    X = df.values                  #use everything else to predict \n",
    "    \n",
    "X = pd.get_dummies(df).values\n",
    "\n",
    "# Split the data into 20% Test and 80% Train\n",
    "sss = StratifiedShuffleSplit(n_splits=10, test_size=0.20, random_state=111)\n",
    "sss.get_n_splits(X, y) #retreving the splits "
   ]
  },
  {
   "cell_type": "code",
   "execution_count": 223,
   "metadata": {},
   "outputs": [],
   "source": [
    "# Run through the cross validation loop and set the training and testing variable for one single iteration\n",
    "for train_indices, test_indices in sss.split(X,y): \n",
    "    X_train = X[train_indices]  #train indices for X\n",
    "    y_train = y[train_indices]  #train indices for y\n",
    "    \n",
    "    X_test = X[test_indices]    #test indices for X\n",
    "    y_test = y[test_indices]    #test indices for y\n",
    "    \n",
    "X_train_scaled = scl_obj.transform(X_train) #apply to training\n",
    "X_test_scaled = scl_obj.transform(X_test)   #apply to testing"
   ]
  },
  {
   "cell_type": "code",
   "execution_count": 224,
   "metadata": {},
   "outputs": [
    {
     "name": "stdout",
     "output_type": "stream",
     "text": [
      "accuracy: 0.844815231856\n",
      "[[7038  393]\n",
      " [1123 1215]]\n"
     ]
    }
   ],
   "source": [
    "# Train the model just as before\n",
    "svm_clf = SVC(C=0.25, kernel='rbf', gamma='auto', random_state=True, decision_function_shape='ovr') # get object\n",
    "svm_clf.fit(X_train_scaled, y_train)  # train object\n",
    "\n",
    "y_hat = svm_clf.predict(X_test_scaled) # get test set precitions\n",
    "\n",
    "acc = mt.accuracy_score(y_test,y_hat)\n",
    "conf = mt.confusion_matrix(y_test,y_hat)\n",
    "print('accuracy:', acc )\n",
    "print(conf)"
   ]
  },
  {
   "cell_type": "code",
   "execution_count": 225,
   "metadata": {},
   "outputs": [
    {
     "name": "stdout",
     "output_type": "stream",
     "text": [
      "(14456, 41)\n",
      "(14456,)\n",
      "[7437 7019]\n"
     ]
    }
   ],
   "source": [
    "# Support vectors\n",
    "print(svm_clf.support_vectors_.shape)\n",
    "print(svm_clf.support_.shape)\n",
    "print(svm_clf.n_support_ )"
   ]
  },
  {
   "cell_type": "code",
   "execution_count": 226,
   "metadata": {},
   "outputs": [
    {
     "name": "stdout",
     "output_type": "stream",
     "text": [
      "<class 'pandas.core.frame.DataFrame'>\n",
      "Int64Index: 14456 entries, 35646 to 32784\n",
      "Data columns (total 12 columns):\n",
      "age                    14456 non-null int64\n",
      "relationship           14456 non-null object\n",
      "race                   14456 non-null object\n",
      "sex                    14456 non-null object\n",
      "capital_gain           14456 non-null int64\n",
      "capital_loss           14456 non-null int64\n",
      "hours_per_week         14456 non-null int64\n",
      "condensed_education    14456 non-null object\n",
      "continent              14456 non-null object\n",
      "condensed_marital      14456 non-null object\n",
      "condensed_workclass    14456 non-null object\n",
      "income_binary          14456 non-null object\n",
      "dtypes: int64(4), object(8)\n",
      "memory usage: 1.4+ MB\n"
     ]
    },
    {
     "name": "stderr",
     "output_type": "stream",
     "text": [
      "/anaconda/lib/python3.6/site-packages/ipykernel_launcher.py:6: SettingWithCopyWarning: \n",
      "A value is trying to be set on a copy of a slice from a DataFrame.\n",
      "Try using .loc[row_indexer,col_indexer] = value instead\n",
      "\n",
      "See the caveats in the documentation: http://pandas.pydata.org/pandas-docs/stable/indexing.html#indexing-view-versus-copy\n",
      "  \n"
     ]
    }
   ],
   "source": [
    "# Make a dataframe of the training data\n",
    "df_tested_on = df.iloc[train_indices] # indices chosen for training\n",
    "# Now get the support vectors from the trained model\n",
    "df_support = df_tested_on.iloc[svm_clf.support_,:]\n",
    "\n",
    "df_support['income_binary'] = y[svm_clf.support_] # add back in the 'income_binary' Column to the pandas dataframe\n",
    "df['income_binary'] = y # add it back into original data set\n",
    "df_support.info()"
   ]
  },
  {
   "cell_type": "markdown",
   "metadata": {},
   "source": [
    "### Support Vector Visualizations\n",
    "\n",
    "The graphs below show the differences between the original dataset and the support vectors. The separation in the support vectors is not as great as the separation in the original data. This is because the support vectors tend to include instances on the edge of the class boundaries. In addition, the support vectors tend to contain instances that are classified incorrectly in the training data set. "
   ]
  },
  {
   "cell_type": "code",
   "execution_count": 227,
   "metadata": {},
   "outputs": [
    {
     "data": {
      "image/png": "[encoded data removed]",
      "text/plain": [
       "<matplotlib.figure.Figure at 0x11edc0550>"
      ]
     },
     "metadata": {},
     "output_type": "display_data"
    },
    {
     "data": {
      "image/png": "[encoded data removed]",
      "text/plain": [
       "<matplotlib.figure.Figure at 0x11e578080>"
      ]
     },
     "metadata": {},
     "output_type": "display_data"
    },
    {
     "data": {
      "image/png": "[encoded data removed]",
      "text/plain": [
       "<matplotlib.figure.Figure at 0x11e3064e0>"
      ]
     },
     "metadata": {},
     "output_type": "display_data"
    },
    {
     "data": {
      "image/png": "[encoded data removed]",
      "text/plain": [
       "<matplotlib.figure.Figure at 0x12151cd30>"
      ]
     },
     "metadata": {},
     "output_type": "display_data"
    }
   ],
   "source": [
    "\n",
    "# Statistics of these attributes\n",
    "from pandas.tools.plotting import boxplot\n",
    "\n",
    "# group the original data and the support vectors\n",
    "df_grouped_support = df_support.groupby(['income_binary'])\n",
    "df_grouped = df.groupby(['income_binary'])\n",
    "\n",
    "# plot KDE of Different variables\n",
    "vars_to_plot = ['age','capital_gain','capital_loss', 'hours_per_week']\n",
    "\n",
    "for v in vars_to_plot:\n",
    "    plt.figure(figsize=(10,4))\n",
    "    # plot support vector stats\n",
    "    plt.subplot(1,2,1)\n",
    "    ax = df_grouped_support[v].plot.kde() \n",
    "    plt.legend(['<=50K','>=50K'])\n",
    "    plt.title(v+' (Instances chosen as Support Vectors)')\n",
    "    \n",
    "    # plot original distributions\n",
    "    plt.subplot(1,2,2)\n",
    "    ax = df_grouped[v].plot.kde() \n",
    "    plt.legend(['<=50K','>=50K'])\n",
    "    plt.title(v+' (Original)')"
   ]
  }
 ],
 "metadata": {
  "kernelspec": {
   "display_name": "Python 3",
   "language": "python",
   "name": "python3"
  },
  "language_info": {
   "codemirror_mode": {
    "name": "ipython",
    "version": 3
   },
   "file_extension": ".py",
   "mimetype": "text/x-python",
   "name": "python",
   "nbconvert_exporter": "python",
   "pygments_lexer": "ipython3",
   "version": "3.6.0"
  }
 },
 "nbformat": 4,
 "nbformat_minor": 2
}
