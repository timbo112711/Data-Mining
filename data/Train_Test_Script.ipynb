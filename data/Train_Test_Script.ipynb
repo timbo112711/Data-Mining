{
 "cells": [
  {
   "cell_type": "code",
   "execution_count": 35,
   "metadata": {
    "collapsed": true
   },
   "outputs": [],
   "source": [
    "import pandas as pd\n",
    "import numpy as np"
   ]
  },
  {
   "cell_type": "code",
   "execution_count": 69,
   "metadata": {
    "collapsed": true
   },
   "outputs": [],
   "source": [
    "base = pd.read_csv('adult.csv')\n",
    "test = pd.read_csv('adult_test.csv')\n",
    "df = base.append(test)"
   ]
  },
  {
   "cell_type": "code",
   "execution_count": 70,
   "metadata": {},
   "outputs": [],
   "source": [
    "#rename the missing values as \"Unknown\"\n",
    "df = df.replace(to_replace=' ?',value='Unknown')\n",
    "\n",
    "#fix differences in binary w/ space @ front ' '.\n",
    "#  <=50K     24720\n",
    "#  <=50K.    12435\n",
    "#  >50K       7841\n",
    "#  >50K.      3846\n",
    "df = df.replace(to_replace=' >50K.',value=' >50K')\n",
    "df = df.replace(to_replace=' <=50K.',value=' <=50K')\n",
    "\n",
    "#get rid of the \"fnlwgt\" variable \n",
    "if 'fnlwgt' in df:\n",
    "    del df['fnlwgt']"
   ]
  },
  {
   "cell_type": "code",
   "execution_count": 71,
   "metadata": {},
   "outputs": [
    {
     "data": {
      "text/plain": [
       " <=50K    37155\n",
       " >50K     11687\n",
       "Name: income_binary, dtype: int64"
      ]
     },
     "execution_count": 71,
     "metadata": {},
     "output_type": "execute_result"
    }
   ],
   "source": [
    "df.income_binary.value_counts()"
   ]
  },
  {
   "cell_type": "markdown",
   "metadata": {},
   "source": [
    "## Education Vars"
   ]
  },
  {
   "cell_type": "code",
   "execution_count": 72,
   "metadata": {
    "collapsed": true
   },
   "outputs": [],
   "source": [
    "#first we need to create a dictionary which holds the education/condensed education pair\n",
    "EducationDict  = {' Bachelors':'Bachelors', ' HS-grad':'High School Graduate', ' 11th':'No High School Diploma', \n",
    "                  ' Masters':'Masters/Professional School', ' 9th':'No High School Diploma',\n",
    "                  ' Some-college':'Some College', ' Assoc-acdm':'Associates', ' Assoc-voc':'Associates', ' 7th-8th':'No High School Diploma',\n",
    "                  ' Doctorate':'Doctorate', ' Prof-school':'Masters/Professional School', ' 5th-6th':'No High School Diploma', \n",
    "                  ' 10th':'No High School Diploma', ' 1st-4th':'No High School Diploma', ' Preschool':'No High School Diploma',\n",
    "                  ' 12th':'No High School Diploma'} \n",
    "\n",
    "#add the condensed education levels to the df \n",
    "df = df.assign(condensed_education=df['education'].map(EducationDict))\n"
   ]
  },
  {
   "cell_type": "markdown",
   "metadata": {},
   "source": [
    "## Continent Vars"
   ]
  },
  {
   "cell_type": "code",
   "execution_count": 73,
   "metadata": {
    "collapsed": true
   },
   "outputs": [],
   "source": [
    "#first we need to create a dictionary which holds the country/continent pair\n",
    "ContinentDict  = {'China':'Asia', 'Cambodia':'Asia', 'Hong':'Asia', 'India':'Asia', 'Japan':'Asia', 'Laos':'Asia', 'Philippines':'Asia',\n",
    "                  'South':'Asia', 'Taiwan':'Asia', 'Thailand':'Asia', 'Vietnam':'Asia', 'Iran':'Asia', 'Canada':'Canada', 'United-States':'United States',\n",
    "                  'Cuba':'Caribbean', 'Dominican-Republic':'Caribbean', 'Haiti':'Caribbean', 'Jamaica':'Caribbean', 'Trinadad&Tobago':'Caribbean',\n",
    "                  'England':'Europe', 'France':'Europe', 'Germany':'Europe', 'Greece':'Europe', 'Holand-Netherlands':'Europe', 'Hungary':'Europe',\n",
    "                  'Ireland':'Europe', 'Italy':'Europe', 'Poland':'Europe', 'Portugal':'Europe', 'Scotland':'Europe', 'Yugoslavia':'Europe',\n",
    "                  'Columbia':'Latin America', 'Ecuador':'Latin America', 'El-Salvador':'Latin America', 'Guatemala':'Latin America',\n",
    "                  'Honduras':'Latin America', 'Nicaragua':'Latin America', 'Peru':'Latin America', 'Mexico':'Mexico', 'Unknown':'Unknown', \n",
    "                  'Outlying-US(Guam-USVI-etc)':'US Territories', 'Puerto-Rico':'US Territories'} \n",
    "\n",
    "#clean any white space or spaces within the variable 'native_country'\n",
    "df['native_country'] = df['native_country'].str.strip()\n",
    "\n",
    "#add the continents to the df \n",
    "df = df.assign(continent=df['native_country'].map(ContinentDict))"
   ]
  },
  {
   "cell_type": "markdown",
   "metadata": {},
   "source": [
    "## Marital Vars"
   ]
  },
  {
   "cell_type": "code",
   "execution_count": 74,
   "metadata": {
    "collapsed": true
   },
   "outputs": [],
   "source": [
    "MaritalDict = {'Married-AF-spouse':'Married','Married-spouse-absent':'Married','Married-civ-spouse':'Married',\n",
    "                  'Divorced' : 'Divorced/Separated','Separated' : 'Divorced/Separated',\n",
    "                  'Never-married': 'Never',\n",
    "                  'Widowed' : 'Widowed'}\n",
    "#clean any white space or spaces within the variable 'marital_stats'\n",
    "df['marital_status'] = df['marital_status'].str.strip()\n",
    "\n",
    "#add the custom marital classes to the df \n",
    "df = df.assign(condensed_marital=df['marital_status'].map(MaritalDict))"
   ]
  },
  {
   "cell_type": "markdown",
   "metadata": {},
   "source": [
    "## Workclass Vars"
   ]
  },
  {
   "cell_type": "code",
   "execution_count": 75,
   "metadata": {
    "collapsed": true
   },
   "outputs": [],
   "source": [
    "WorkclassDict = {\n",
    "        'Local-gov' : 'Government','State-gov' : 'Government','Federal-gov' : 'Government',\n",
    "        'Self-emp-not-inc' : 'Self-Employed','Self-emp-inc' : 'Self-Employed',\n",
    "        'Unknown' : 'Uknown/Other','Without-pay' : 'Uknown/Other','Never-worked' : 'Uknown/Other',\n",
    "        'Private' : 'Private'\n",
    "}\n",
    "\n",
    "#clean any white space or spaces within the variable 'workclass'\n",
    "df['workclass'] = df['workclass'].str.strip()\n",
    "\n",
    "#add the custom workclasses to the df \n",
    "df = df.assign(condensed_workclass=df['workclass'].map(WorkclassDict))\n"
   ]
  },
  {
   "cell_type": "markdown",
   "metadata": {},
   "source": [
    "## Output to CSV"
   ]
  },
  {
   "cell_type": "code",
   "execution_count": 76,
   "metadata": {
    "collapsed": true
   },
   "outputs": [],
   "source": [
    "# train = df.sample(frac=.80,random_state=923)\n",
    "# test = df.drop(train.index)\n",
    "df.to_csv('master.csv')"
   ]
  },
  {
   "cell_type": "code",
   "execution_count": null,
   "metadata": {
    "collapsed": true
   },
   "outputs": [],
   "source": []
  },
  {
   "cell_type": "code",
   "execution_count": null,
   "metadata": {
    "collapsed": true
   },
   "outputs": [],
   "source": []
  },
  {
   "cell_type": "code",
   "execution_count": null,
   "metadata": {
    "collapsed": true
   },
   "outputs": [],
   "source": []
  },
  {
   "cell_type": "code",
   "execution_count": null,
   "metadata": {
    "collapsed": true
   },
   "outputs": [],
   "source": []
  },
  {
   "cell_type": "code",
   "execution_count": null,
   "metadata": {
    "collapsed": true
   },
   "outputs": [],
   "source": []
  }
 ],
 "metadata": {
  "kernelspec": {
   "display_name": "Python 3",
   "language": "python",
   "name": "python3"
  },
  "language_info": {
   "codemirror_mode": {
    "name": "ipython",
    "version": 3
   },
   "file_extension": ".py",
   "mimetype": "text/x-python",
   "name": "python",
   "nbconvert_exporter": "python",
   "pygments_lexer": "ipython3",
   "version": "3.6.0"
  }
 },
 "nbformat": 4,
 "nbformat_minor": 2
}
